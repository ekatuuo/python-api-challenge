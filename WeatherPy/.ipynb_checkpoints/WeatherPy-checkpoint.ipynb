{
 "cells": [
  {
   "cell_type": "markdown",
   "metadata": {},
   "source": [
    "# WeatherPy\n",
    "----\n",
    "\n",
    "#### Note\n",
    "* Instructions have been included for each segment. You do not have to follow them exactly, but they are included to help you think through the steps."
   ]
  },
  {
   "cell_type": "code",
   "execution_count": 1,
   "metadata": {
    "scrolled": true
   },
   "outputs": [],
   "source": [
    "# Dependencies and Setup\n",
    "import matplotlib.pyplot as plt\n",
    "import pandas as pd\n",
    "import numpy as np\n",
    "import requests\n",
    "import time\n",
    "from datetime import date\n",
    "from scipy.stats import linregress\n",
    "\n",
    "# Import API key\n",
    "from api_keys import weather_api_key\n",
    "\n",
    "# Incorporated citipy to determine city based on latitude and longitude\n",
    "from citipy import citipy\n",
    "\n",
    "# Output File (CSV)\n",
    "output_data_file = \"output_data/cities.csv\"\n",
    "\n",
    "# Range of latitudes and longitudes\n",
    "lat_range = (-90, 90)\n",
    "lng_range = (-180, 180)"
   ]
  },
  {
   "cell_type": "markdown",
   "metadata": {},
   "source": [
    "\n",
    "## Generate Cities List"
   ]
  },
  {
   "cell_type": "code",
   "execution_count": 2,
   "metadata": {},
   "outputs": [
    {
     "data": {
      "text/plain": [
       "593"
      ]
     },
     "execution_count": 2,
     "metadata": {},
     "output_type": "execute_result"
    }
   ],
   "source": [
    "# List for holding lat_lngs and cities\n",
    "lat_lngs = []\n",
    "cities = []\n",
    "\n",
    "# Create a set of random lat and lng combinations\n",
    "lats = np.random.uniform(lat_range[0], lat_range[1], size=1500)\n",
    "lngs = np.random.uniform(lng_range[0], lng_range[1], size=1500)\n",
    "lat_lngs = zip(lats, lngs)\n",
    "\n",
    "# Identify nearest city for each lat, lng combination\n",
    "for lat_lng in lat_lngs:\n",
    "    city = citipy.nearest_city(lat_lng[0], lat_lng[1]).city_name\n",
    "    \n",
    "    # If the city is unique, then add it to a our cities list\n",
    "    if city not in cities:\n",
    "        cities.append(city)\n",
    "\n",
    "# Print the city count to confirm sufficient count\n",
    "len(cities)"
   ]
  },
  {
   "cell_type": "markdown",
   "metadata": {},
   "source": [
    "### Perform API Calls\n",
    "* Perform a weather check on each city using a series of successive API calls.\n",
    "* Include a print log of each city as it'sbeing processed (with the city number and city name).\n"
   ]
  },
  {
   "cell_type": "code",
   "execution_count": 3,
   "metadata": {
    "scrolled": true
   },
   "outputs": [
    {
     "name": "stdout",
     "output_type": "stream",
     "text": [
      "City Name: new norfolk, City ID: 2155415\n",
      "City Name: sao filipe, City ID: 3374210\n",
      "There is no record, continue to the next record...\n",
      "City Name: atuona, City ID: 4020109\n",
      "City Name: butaritari, City ID: 2110227\n",
      "City Name: great falls, City ID: 5655240\n",
      "City Name: thinadhoo, City ID: 1337610\n",
      "City Name: jamestown, City ID: 5122534\n",
      "City Name: hermanus, City ID: 3366880\n",
      "City Name: nosy varika, City ID: 1058080\n",
      "City Name: barpali, City ID: 1276870\n",
      "City Name: walvis bay, City ID: 3359638\n",
      "City Name: georgetown, City ID: 1735106\n",
      "City Name: norman wells, City ID: 6089245\n",
      "City Name: khatanga, City ID: 2022572\n",
      "City Name: nurpur, City ID: 1261122\n",
      "City Name: luderitz, City ID: 3355672\n",
      "City Name: westport, City ID: 4845585\n",
      "City Name: saint-philippe, City ID: 935215\n",
      "City Name: naze, City ID: 1855540\n",
      "City Name: chuy, City ID: 3443061\n",
      "City Name: mataura, City ID: 6201424\n",
      "City Name: qaanaaq, City ID: 3831208\n",
      "City Name: broome, City ID: 5110365\n",
      "City Name: albany, City ID: 5106841\n",
      "City Name: vaini, City ID: 4032243\n",
      "City Name: rikitea, City ID: 4030556\n",
      "There is no record, continue to the next record...\n",
      "City Name: port alfred, City ID: 964432\n",
      "City Name: maykor, City ID: 528288\n",
      "City Name: bluff, City ID: 2206939\n",
      "City Name: pochutla, City ID: 3517970\n",
      "City Name: puerto ayora, City ID: 3652764\n",
      "City Name: punta arenas, City ID: 3874787\n",
      "City Name: byron bay, City ID: 2172880\n",
      "City Name: mutoko, City ID: 884927\n",
      "City Name: arraial do cabo, City ID: 3471451\n",
      "There is no record, continue to the next record...\n",
      "City Name: nalut, City ID: 2214432\n",
      "City Name: kapaa, City ID: 5848280\n",
      "City Name: fortuna, City ID: 5563839\n",
      "City Name: mar del plata, City ID: 3430863\n",
      "City Name: bredasdorp, City ID: 1015776\n",
      "City Name: lebu, City ID: 3883457\n",
      "City Name: kozhevnikovo, City ID: 1502257\n",
      "City Name: isangel, City ID: 2136825\n",
      "City Name: airai, City ID: 1651810\n",
      "City Name: flinders, City ID: 6255012\n",
      "City Name: hualmay, City ID: 3939761\n",
      "City Name: el alto, City ID: 3697441\n",
      "City Name: kant, City ID: 1267979\n",
      "City Name: tuktoyaktuk, City ID: 6170031\n",
      "City Name: blois, City ID: 3032212\n",
      "City Name: haines junction, City ID: 5969025\n",
      "City Name: naryan-mar, City ID: 523392\n",
      "City Name: araouane, City ID: 2460954\n",
      "City Name: avarua, City ID: 4035715\n",
      "City Name: saskylakh, City ID: 2017155\n",
      "There is no record, continue to the next record...\n",
      "City Name: vao, City ID: 2137773\n",
      "City Name: coquimbo, City ID: 3893629\n",
      "City Name: hvolsvollur, City ID: 3415720\n",
      "City Name: hobyo, City ID: 57000\n",
      "City Name: vila franca do campo, City ID: 3372472\n",
      "City Name: the valley, City ID: 3573374\n",
      "City Name: kahului, City ID: 5847411\n",
      "City Name: alamosa, City ID: 5411479\n",
      "City Name: lokosovo, City ID: 1500399\n",
      "City Name: dudinka, City ID: 1507116\n",
      "City Name: castro, City ID: 3466704\n",
      "City Name: tasiilaq, City ID: 3424607\n",
      "City Name: verkhnyaya toyma, City ID: 474470\n",
      "City Name: san quintin, City ID: 3984997\n",
      "There is no record, continue to the next record...\n",
      "There is no record, continue to the next record...\n",
      "City Name: lorengau, City ID: 2092164\n",
      "City Name: morant bay, City ID: 3489440\n",
      "There is no record, continue to the next record...\n",
      "City Name: thompson, City ID: 6165406\n",
      "City Name: candolim, City ID: 1274989\n",
      "City Name: san ramon, City ID: 5392593\n",
      "There is no record, continue to the next record...\n",
      "City Name: labuhan, City ID: 8079926\n",
      "City Name: mangrol, City ID: 1263752\n",
      "There is no record, continue to the next record...\n",
      "City Name: vostok, City ID: 2013279\n",
      "City Name: carnarvon, City ID: 2074865\n",
      "City Name: codrington, City ID: 2171099\n",
      "There is no record, continue to the next record...\n",
      "City Name: kaitangata, City ID: 2208248\n",
      "There is no record, continue to the next record...\n",
      "City Name: barrow, City ID: 5880054\n",
      "City Name: ribeira grande, City ID: 3372707\n",
      "City Name: yinchuan, City ID: 1786657\n",
      "City Name: ponta do sol, City ID: 2264557\n",
      "City Name: peddapalli, City ID: 1259961\n",
      "City Name: sijunjung, City ID: 1627185\n",
      "City Name: esil, City ID: 1524296\n",
      "City Name: port elizabeth, City ID: 964420\n",
      "City Name: guerrero negro, City ID: 4021858\n",
      "City Name: hithadhoo, City ID: 1282256\n",
      "City Name: saint-pierre, City ID: 935214\n",
      "City Name: klaksvik, City ID: 2618795\n",
      "City Name: turukhansk, City ID: 1488903\n",
      "City Name: maceio, City ID: 3395981\n",
      "City Name: paka, City ID: 1734313\n",
      "City Name: nanortalik, City ID: 3421765\n",
      "City Name: chitrakonda, City ID: 1274055\n",
      "City Name: south valley, City ID: 5492450\n",
      "There is no record, continue to the next record...\n",
      "City Name: kupang, City ID: 2057087\n",
      "City Name: cherskiy, City ID: 2126199\n",
      "City Name: mariestad, City ID: 2692613\n",
      "City Name: san policarpo, City ID: 1688696\n",
      "City Name: hilo, City ID: 5855927\n",
      "City Name: hobart, City ID: 2163355\n",
      "City Name: merauke, City ID: 2082539\n",
      "City Name: phalaborwa, City ID: 965528\n",
      "City Name: busselton, City ID: 2075265\n",
      "City Name: shenjiamen, City ID: 1795632\n",
      "City Name: gigmoto, City ID: 1712961\n",
      "City Name: baruun-urt, City ID: 2032614\n",
      "City Name: berdigestyakh, City ID: 2026861\n",
      "There is no record, continue to the next record...\n",
      "City Name: pontes e lacerda, City ID: 3453060\n",
      "City Name: constitucion, City ID: 3893726\n",
      "City Name: jiuquan, City ID: 1279945\n",
      "City Name: chokurdakh, City ID: 2126123\n",
      "City Name: tiksi, City ID: 2015306\n",
      "City Name: saint-gaudens, City ID: 2980043\n",
      "City Name: faanui, City ID: 4034551\n",
      "City Name: yellowknife, City ID: 6185377\n",
      "City Name: kruisfontein, City ID: 986717\n",
      "City Name: arak, City ID: 143127\n",
      "City Name: marsa matruh, City ID: 352733\n",
      "City Name: mabopane, City ID: 980921\n",
      "City Name: masterton, City ID: 2206890\n",
      "There is no record, continue to the next record...\n",
      "City Name: ushuaia, City ID: 3833367\n",
      "City Name: broken hill, City ID: 2173911\n",
      "City Name: svetlogorsk, City ID: 10722858\n",
      "There is no record, continue to the next record...\n",
      "There is no record, continue to the next record...\n",
      "There is no record, continue to the next record...\n",
      "City Name: kismayo, City ID: 55671\n",
      "City Name: huadian, City ID: 2036776\n",
      "City Name: mahebourg, City ID: 934322\n",
      "City Name: marsaxlokk, City ID: 2562247\n",
      "There is no record, continue to the next record...\n",
      "City Name: ust-maya, City ID: 2013918\n",
      "City Name: asekeyevo, City ID: 580676\n",
      "City Name: shakhtinsk, City ID: 1519327\n",
      "City Name: alice springs, City ID: 2077895\n",
      "There is no record, continue to the next record...\n",
      "City Name: los llanos de aridane, City ID: 2514651\n",
      "City Name: tommot, City ID: 2015179\n",
      "There is no record, continue to the next record...\n",
      "City Name: bethel, City ID: 5282297\n",
      "There is no record, continue to the next record...\n",
      "City Name: ozimek, City ID: 3089583\n",
      "City Name: hami, City ID: 1529484\n",
      "City Name: antalaha, City ID: 1071296\n",
      "City Name: alihe, City ID: 2038665\n",
      "City Name: petropavlovsk-kamchatskiy, City ID: 2122104\n",
      "City Name: hofn, City ID: 2630299\n",
      "City Name: bengkulu, City ID: 1649150\n",
      "City Name: oum hadjer, City ID: 2426370\n",
      "City Name: vardo, City ID: 777019\n",
      "City Name: kavieng, City ID: 2094342\n",
      "City Name: ostrovnoy, City ID: 556268\n",
      "City Name: mocorito, City ID: 3995652\n",
      "City Name: soe, City ID: 1626703\n",
      "City Name: nuuk, City ID: 3421319\n",
      "City Name: tahta, City ID: 347634\n",
      "City Name: port hedland, City ID: 2063042\n",
      "City Name: olafsvik, City ID: 3414079\n",
      "City Name: makakilo city, City ID: 5850554\n",
      "City Name: poum, City ID: 2138555\n",
      "City Name: fez, City ID: 2548885\n",
      "City Name: gat, City ID: 293842\n",
      "City Name: rio gallegos, City ID: 3838859\n",
      "City Name: sterlitamak, City ID: 487495\n",
      "City Name: kenai, City ID: 5866063\n",
      "City Name: jiangyou, City ID: 1885823\n",
      "City Name: auki, City ID: 2109701\n",
      "City Name: tiznit, City ID: 2527087\n",
      "City Name: lata, City ID: 2738381\n",
      "City Name: itumbiara, City ID: 3460522\n",
      "City Name: cabo san lucas, City ID: 3985710\n",
      "City Name: tessalit, City ID: 2449893\n",
      "City Name: kargasok, City ID: 1504382\n",
      "City Name: norton shores, City ID: 5004005\n",
      "City Name: tura, City ID: 1254046\n",
      "City Name: leningradskiy, City ID: 2123814\n",
      "City Name: angoche, City ID: 1052944\n",
      "City Name: vung tau, City ID: 1562414\n",
      "City Name: nikolskoye, City ID: 546105\n",
      "City Name: banda aceh, City ID: 1215502\n",
      "City Name: atoka, City ID: 4529605\n",
      "City Name: champerico, City ID: 3598787\n",
      "City Name: iquique, City ID: 3887127\n",
      "City Name: lazaro cardenas, City ID: 4026082\n",
      "City Name: san patricio, City ID: 4726521\n",
      "City Name: bend, City ID: 5713587\n",
      "City Name: bathsheba, City ID: 3374083\n",
      "City Name: lagoa, City ID: 3372964\n",
      "City Name: souillac, City ID: 933995\n"
     ]
    },
    {
     "name": "stdout",
     "output_type": "stream",
     "text": [
      "City Name: payo, City ID: 1638775\n",
      "City Name: manokwari, City ID: 1636308\n",
      "City Name: oparino, City ID: 515175\n",
      "City Name: narsaq, City ID: 3421719\n",
      "City Name: natal, City ID: 3394023\n",
      "City Name: la asuncion, City ID: 3480908\n",
      "City Name: belaya gora, City ID: 2126785\n",
      "City Name: matelica, City ID: 3173722\n",
      "There is no record, continue to the next record...\n",
      "City Name: cape town, City ID: 3369157\n",
      "City Name: upernavik, City ID: 3418910\n",
      "There is no record, continue to the next record...\n",
      "City Name: mithi, City ID: 1170219\n",
      "City Name: toumodi, City ID: 2280316\n",
      "City Name: mazyr, City ID: 625324\n",
      "City Name: college, City ID: 5859699\n",
      "City Name: peniche, City ID: 2264923\n",
      "There is no record, continue to the next record...\n",
      "City Name: pahrump, City ID: 5509851\n",
      "City Name: sitka, City ID: 5557293\n",
      "City Name: praia da vitoria, City ID: 3372760\n",
      "City Name: rockland, City ID: 5134189\n",
      "City Name: samarai, City ID: 2132606\n",
      "City Name: praia, City ID: 3374333\n",
      "City Name: kodiak, City ID: 5866583\n",
      "City Name: camacha, City ID: 2270385\n",
      "City Name: abu zabad, City ID: 380348\n",
      "City Name: saint george, City ID: 5546220\n",
      "City Name: amapa, City ID: 3407762\n",
      "City Name: monrovia, City ID: 2274895\n",
      "City Name: coahuayana, City ID: 4013679\n",
      "City Name: taksimo, City ID: 2015701\n",
      "City Name: east london, City ID: 1006984\n",
      "City Name: omsukchan, City ID: 2122493\n",
      "City Name: tazovskiy, City ID: 1489853\n",
      "City Name: hasaki, City ID: 2112802\n",
      "City Name: zemio, City ID: 235826\n",
      "City Name: kuantan, City ID: 1735227\n",
      "City Name: yalta, City ID: 688533\n",
      "There is no record, continue to the next record...\n",
      "City Name: bodden town, City ID: 3580733\n",
      "City Name: kalmunai, City ID: 1242110\n",
      "City Name: vitim, City ID: 2013375\n",
      "City Name: sola, City ID: 2134814\n",
      "City Name: necochea, City ID: 3430443\n",
      "City Name: cananea, City ID: 4015700\n",
      "City Name: chapais, City ID: 5919850\n",
      "City Name: igarka, City ID: 1505991\n",
      "City Name: intipuca, City ID: 3585480\n",
      "City Name: dzaoudzi, City ID: 921900\n",
      "City Name: caninde de sao francisco, City ID: 3403344\n",
      "There is no record, continue to the next record...\n",
      "City Name: puerto escondido, City ID: 3520994\n",
      "City Name: abhar, City ID: 145034\n",
      "City Name: tuatapere, City ID: 2180815\n",
      "City Name: yar-sale, City ID: 1486321\n",
      "City Name: grootfontein, City ID: 3357114\n",
      "City Name: fare, City ID: 4034496\n",
      "City Name: vila velha, City ID: 3445026\n",
      "City Name: meulaboh, City ID: 1214488\n",
      "City Name: jijiga, City ID: 333795\n",
      "City Name: ayagoz, City ID: 1525988\n",
      "There is no record, continue to the next record...\n",
      "City Name: namibe, City ID: 3347019\n",
      "City Name: jinji, City ID: 1805515\n",
      "City Name: zhigansk, City ID: 2012530\n",
      "City Name: bairiki, City ID: 7601762\n",
      "City Name: rawson, City ID: 3839307\n",
      "City Name: san cristobal, City ID: 3628473\n",
      "City Name: mulki, City ID: 1262546\n",
      "City Name: mount isa, City ID: 2065594\n",
      "City Name: muros, City ID: 3115824\n",
      "City Name: severo-kurilsk, City ID: 2121385\n",
      "City Name: hwange, City ID: 889942\n",
      "City Name: chacabuco, City ID: 3861953\n",
      "City Name: tadine, City ID: 2138285\n",
      "City Name: victoria, City ID: 1819729\n",
      "City Name: ransang, City ID: 1691872\n",
      "City Name: vila do maio, City ID: 3374120\n",
      "City Name: chara, City ID: 2025630\n",
      "City Name: homer, City ID: 5864145\n",
      "City Name: dunedin, City ID: 2191562\n",
      "City Name: road town, City ID: 3577430\n",
      "City Name: vredendal, City ID: 3359736\n",
      "City Name: itarema, City ID: 3393692\n",
      "City Name: moree, City ID: 2156927\n",
      "City Name: parana, City ID: 3841956\n",
      "City Name: uruguaiana, City ID: 3445679\n",
      "City Name: karratha, City ID: 6620339\n",
      "City Name: qasigiannguit, City ID: 3420768\n",
      "City Name: talnakh, City ID: 1490256\n",
      "City Name: tautira, City ID: 4033557\n",
      "There is no record, continue to the next record...\n",
      "There is no record, continue to the next record...\n",
      "City Name: rehoboth, City ID: 3353540\n",
      "City Name: barkot, City ID: 1276917\n",
      "City Name: hambantota, City ID: 1244926\n",
      "City Name: coihaique, City ID: 3894426\n",
      "City Name: agadez, City ID: 2448083\n",
      "City Name: esperance, City ID: 2071860\n",
      "City Name: boa viagem, City ID: 3405616\n",
      "City Name: padang, City ID: 1633419\n",
      "City Name: port moresby, City ID: 2088122\n",
      "City Name: ardakan, City ID: 143073\n",
      "City Name: trapani, City ID: 2522875\n",
      "City Name: totma, City ID: 481960\n",
      "City Name: bredy, City ID: 1508811\n",
      "City Name: doha, City ID: 290030\n",
      "City Name: srednekolymsk, City ID: 2121025\n",
      "City Name: longyearbyen, City ID: 2729907\n",
      "City Name: inhambane, City ID: 1045114\n",
      "City Name: geraldton, City ID: 2070998\n",
      "City Name: aswan, City ID: 359792\n",
      "City Name: lodwar, City ID: 189280\n",
      "City Name: grindavik, City ID: 3416888\n",
      "City Name: pisco, City ID: 3932145\n",
      "City Name: kutum, City ID: 371745\n",
      "City Name: polis, City ID: 146137\n",
      "City Name: eyl, City ID: 60019\n",
      "City Name: mana, City ID: 3381041\n",
      "City Name: manggar, City ID: 1636426\n",
      "City Name: ekhabi, City ID: 2122614\n",
      "City Name: varzea da palma, City ID: 3445459\n",
      "City Name: acapulco, City ID: 3533462\n",
      "City Name: guanica, City ID: 4565090\n",
      "City Name: port augusta, City ID: 2063056\n",
      "City Name: kirakira, City ID: 2178753\n",
      "City Name: olinda, City ID: 3393536\n",
      "City Name: choix, City ID: 4014109\n",
      "City Name: chunskiy, City ID: 1507636\n",
      "City Name: skjervoy, City ID: 777682\n",
      "City Name: ferme-neuve, City ID: 5952330\n",
      "City Name: gornyy, City ID: 1506254\n",
      "City Name: beringovskiy, City ID: 2126710\n",
      "City Name: kabare, City ID: 215605\n",
      "There is no record, continue to the next record...\n",
      "City Name: de aar, City ID: 1011632\n",
      "City Name: bawku, City ID: 2303287\n",
      "City Name: port lincoln, City ID: 2063036\n",
      "City Name: nicoya, City ID: 3622716\n",
      "There is no record, continue to the next record...\n",
      "City Name: cidreira, City ID: 3466165\n",
      "City Name: katherine, City ID: 2068655\n",
      "City Name: heihe, City ID: 2036973\n",
      "City Name: jibuti, City ID: 223816\n",
      "City Name: darhan, City ID: 2031964\n",
      "City Name: lima, City ID: 3936456\n",
      "City Name: matai, City ID: 154638\n",
      "City Name: cortland, City ID: 5113792\n",
      "City Name: monywa, City ID: 1308522\n",
      "City Name: lernapat, City ID: 616530\n",
      "City Name: port blair, City ID: 1259385\n",
      "City Name: palmer, City ID: 4946620\n",
      "City Name: severnoye, City ID: 1492607\n",
      "City Name: enid, City ID: 4535961\n",
      "City Name: kawalu, City ID: 1640902\n",
      "City Name: baykit, City ID: 1510689\n",
      "City Name: garden city, City ID: 4993659\n",
      "City Name: coolum beach, City ID: 2170581\n",
      "City Name: manturovo, City ID: 529505\n",
      "City Name: mackay, City ID: 2159220\n",
      "City Name: terra rica, City ID: 3446581\n",
      "City Name: viedma, City ID: 3832899\n",
      "City Name: waipawa, City ID: 2206874\n",
      "City Name: maloy, City ID: 3146487\n",
      "City Name: batemans bay, City ID: 2176639\n",
      "There is no record, continue to the next record...\n",
      "City Name: gazanjyk, City ID: 161974\n",
      "City Name: pangnirtung, City ID: 6096551\n",
      "City Name: lompoc, City ID: 5367788\n",
      "City Name: poltavka, City ID: 1494500\n",
      "There is no record, continue to the next record...\n",
      "City Name: freeport, City ID: 5117949\n",
      "City Name: henties bay, City ID: 3356832\n",
      "City Name: hervey bay, City ID: 2146219\n",
      "City Name: carman, City ID: 5917275\n",
      "City Name: husavik, City ID: 2629833\n",
      "City Name: pailon, City ID: 3909010\n",
      "City Name: portland, City ID: 5746545\n",
      "City Name: mehamn, City ID: 778707\n",
      "City Name: portknockie, City ID: 2640035\n",
      "City Name: cervo, City ID: 3125287\n",
      "City Name: provideniya, City ID: 4031574\n",
      "City Name: calabozo, City ID: 3647444\n",
      "City Name: nome, City ID: 5870133\n",
      "There is no record, continue to the next record...\n",
      "City Name: buala, City ID: 2109528\n",
      "City Name: palu, City ID: 1633034\n",
      "City Name: saqqez, City ID: 117392\n",
      "City Name: sindou, City ID: 2355548\n",
      "City Name: bemidji, City ID: 5017822\n",
      "City Name: dikson, City ID: 1507390\n",
      "City Name: rundu, City ID: 3353383\n",
      "City Name: xining, City ID: 1788852\n",
      "City Name: leh, City ID: 1264976\n",
      "City Name: shemonaikha, City ID: 1519226\n",
      "City Name: dubbo, City ID: 2168305\n",
      "City Name: ossora, City ID: 2122389\n",
      "City Name: barcelos, City ID: 2742416\n",
      "City Name: berlevag, City ID: 780687\n",
      "City Name: half moon bay, City ID: 5354943\n",
      "City Name: bandipur, City ID: 1283680\n",
      "City Name: axim, City ID: 2303611\n",
      "City Name: murray bridge, City ID: 2065176\n",
      "City Name: muncar, City ID: 1634718\n",
      "City Name: batsfjord, City ID: 780717\n",
      "City Name: hamilton, City ID: 4513583\n",
      "City Name: launceston, City ID: 2160517\n",
      "City Name: chernyatyn, City ID: 710652\n",
      "City Name: lemoore, City ID: 5365918\n",
      "City Name: patawag, City ID: 1694418\n",
      "City Name: jerantut, City ID: 1732602\n",
      "City Name: galle, City ID: 1246294\n",
      "City Name: russell, City ID: 4047434\n",
      "City Name: ketchikan, City ID: 5554428\n"
     ]
    },
    {
     "name": "stdout",
     "output_type": "stream",
     "text": [
      "City Name: killybegs, City ID: 2963295\n",
      "City Name: taseyevo, City ID: 1490058\n",
      "City Name: troitskoye, City ID: 1489209\n",
      "City Name: windhoek, City ID: 3352136\n",
      "City Name: lithakia, City ID: 258241\n",
      "There is no record, continue to the next record...\n",
      "City Name: peleduy, City ID: 2018069\n",
      "City Name: magdagachi, City ID: 2020591\n",
      "City Name: marrakesh, City ID: 2542997\n",
      "City Name: cabra, City ID: 2520645\n",
      "City Name: ambilobe, City ID: 1082243\n",
      "There is no record, continue to the next record...\n",
      "City Name: zhezkazgan, City ID: 1516589\n",
      "City Name: sakaiminato, City ID: 1853174\n",
      "City Name: luoyang, City ID: 1801792\n",
      "City Name: yining, City ID: 1786538\n",
      "City Name: llangefni, City ID: 2644037\n",
      "There is no record, continue to the next record...\n",
      "City Name: zheleznodorozhnyy, City ID: 463355\n",
      "City Name: rocha, City ID: 3440777\n",
      "City Name: bonavista, City ID: 5905393\n",
      "City Name: marsh harbour, City ID: 3571913\n",
      "City Name: torbay, City ID: 6167817\n",
      "City Name: faya, City ID: 110690\n",
      "City Name: korampallam, City ID: 1266135\n",
      "City Name: abakaliki, City ID: 2353099\n",
      "City Name: feira de santana, City ID: 3463478\n",
      "City Name: tecoanapa, City ID: 3516171\n",
      "City Name: avera, City ID: 4231997\n",
      "City Name: kut chap, City ID: 1609324\n",
      "City Name: spirit river, City ID: 6153766\n",
      "City Name: iisalmi, City ID: 656820\n",
      "City Name: te anau, City ID: 2181625\n",
      "City Name: newark, City ID: 5101798\n",
      "City Name: harper, City ID: 2276492\n",
      "City Name: shestakovo, City ID: 2016733\n",
      "City Name: touros, City ID: 3386213\n",
      "City Name: carinhanha, City ID: 3466950\n",
      "City Name: tocopilla, City ID: 3869716\n",
      "City Name: antanifotsy, City ID: 1070661\n",
      "City Name: pemberton, City ID: 6100799\n",
      "City Name: vilhena, City ID: 3924679\n",
      "City Name: bambous virieux, City ID: 1106677\n",
      "There is no record, continue to the next record...\n",
      "City Name: altay, City ID: 1529651\n",
      "City Name: roros, City ID: 3141332\n",
      "City Name: aksha, City ID: 2028028\n",
      "City Name: tomatlan, City ID: 3981391\n",
      "City Name: mayo, City ID: 4362001\n",
      "City Name: aklavik, City ID: 5882953\n",
      "City Name: bahia blanca, City ID: 3865086\n",
      "City Name: dingle, City ID: 1714733\n",
      "City Name: puerto leguizamo, City ID: 3671437\n",
      "City Name: nishihara, City ID: 1855342\n",
      "City Name: bakchar, City ID: 1511057\n",
      "City Name: mabaruma, City ID: 3377301\n",
      "City Name: sao felix do xingu, City ID: 3388847\n",
      "There is no record, continue to the next record...\n",
      "There is no record, continue to the next record...\n",
      "City Name: saint-joseph, City ID: 6690296\n",
      "City Name: hay river, City ID: 5972762\n",
      "City Name: quilmana, City ID: 3930817\n",
      "City Name: laguna, City ID: 5364271\n",
      "City Name: key west, City ID: 4160812\n",
      "City Name: gizo, City ID: 2108857\n",
      "There is no record, continue to the next record...\n",
      "City Name: friedrichsthal, City ID: 2924461\n",
      "City Name: usman, City ID: 478317\n",
      "City Name: lavrentiya, City ID: 4031637\n",
      "City Name: nata, City ID: 3703938\n",
      "There is no record, continue to the next record...\n",
      "There is no record, continue to the next record...\n",
      "City Name: atar, City ID: 2381334\n",
      "City Name: salalah, City ID: 286621\n",
      "City Name: mount gambier, City ID: 2156643\n",
      "City Name: dosso, City ID: 2445488\n",
      "City Name: smithers, City ID: 6149996\n",
      "City Name: cayenne, City ID: 3382160\n",
      "City Name: brokopondo, City ID: 3384481\n",
      "City Name: wattegama, City ID: 1224061\n",
      "City Name: buffalo, City ID: 5110629\n",
      "City Name: pinega, City ID: 509483\n",
      "City Name: camana, City ID: 3945985\n",
      "City Name: anloga, City ID: 2304548\n",
      "City Name: salur, City ID: 1257587\n",
      "City Name: goderich, City ID: 5962442\n",
      "City Name: kamina, City ID: 214614\n",
      "City Name: katsuura, City ID: 2112309\n",
      "City Name: gao, City ID: 2457161\n",
      "City Name: shimoda, City ID: 1852357\n",
      "City Name: kathmandu, City ID: 1283240\n",
      "City Name: soyo, City ID: 2236967\n",
      "City Name: ancud, City ID: 3899695\n",
      "There is no record, continue to the next record...\n",
      "City Name: bestobe, City ID: 1525376\n",
      "City Name: bayaguana, City ID: 3511626\n",
      "City Name: nexo, City ID: 2616504\n",
      "City Name: odweyne, City ID: 53372\n",
      "City Name: tulum, City ID: 3515040\n",
      "City Name: moranbah, City ID: 6533368\n",
      "City Name: tarko-sale, City ID: 1490085\n",
      "City Name: truth or consequences, City ID: 5495292\n",
      "City Name: orangeburg, City ID: 4590184\n",
      "City Name: fukue, City ID: 1863997\n",
      "City Name: zhangye, City ID: 1785036\n",
      "City Name: ilulissat, City ID: 3423146\n",
      "City Name: poso, City ID: 1630723\n",
      "City Name: mecca, City ID: 104515\n",
      "City Name: oranjemund, City ID: 3354071\n",
      "City Name: santo antonio do ica, City ID: 3662395\n",
      "City Name: egvekinot, City ID: 4031742\n",
      "City Name: halifax, City ID: 6324729\n",
      "City Name: oistins, City ID: 3373652\n",
      "City Name: korla, City ID: 1529376\n",
      "City Name: inirida, City ID: 3671450\n",
      "City Name: pangoa, City ID: 3933104\n",
      "City Name: iqaluit, City ID: 5983720\n",
      "City Name: soledar, City ID: 706757\n",
      "City Name: pozo colorado, City ID: 3437443\n",
      "City Name: yulara, City ID: 6355222\n",
      "City Name: perth, City ID: 2063523\n",
      "City Name: oussouye, City ID: 2246901\n",
      "City Name: saint-louis, City ID: 2246451\n",
      "City Name: longview, City ID: 4707814\n",
      "City Name: quatre cocos, City ID: 1106643\n",
      "City Name: shingu, City ID: 1847947\n",
      "City Name: alghero, City ID: 3183284\n",
      "City Name: manavalakurichi, City ID: 1263942\n",
      "City Name: fuyu, City ID: 2037335\n",
      "City Name: mareeba, City ID: 2158767\n",
      "City Name: porto walter, City ID: 3662761\n",
      "There is no record, continue to the next record...\n",
      "There is no record, continue to the next record...\n",
      "There is no record, continue to the next record...\n",
      "City Name: wukari, City ID: 2318921\n",
      "City Name: comodoro rivadavia, City ID: 3860443\n",
      "City Name: nha trang, City ID: 1572151\n",
      "City Name: rio grande, City ID: 3451138\n",
      "City Name: presidencia roque saenz pena, City ID: 3840300\n",
      "City Name: bassano, City ID: 5894642\n",
      "City Name: saravan, City ID: 174726\n",
      "City Name: paragominas, City ID: 3393106\n",
      "City Name: inuvik, City ID: 5983607\n",
      "There is no record, continue to the next record...\n",
      "City Name: chaoyang, City ID: 2038120\n",
      "City Name: suphan buri, City ID: 1606033\n",
      "City Name: kyaikkami, City ID: 1317402\n",
      "City Name: shubarshi, City ID: 608270\n",
      "City Name: placido de castro, City ID: 3924895\n",
      "City Name: augusto correa, City ID: 3406961\n",
      "City Name: santa rosa, City ID: 1687894\n",
      "City Name: aksarka, City ID: 1512019\n",
      "City Name: bayan, City ID: 2038421\n",
      "City Name: caravelas, City ID: 3466980\n",
      "There is no record, continue to the next record...\n",
      "City Name: inta, City ID: 1505579\n",
      "City Name: toktogul, City ID: 1538648\n",
      "City Name: sheregesh, City ID: 1492252\n",
      "City Name: palimbang, City ID: 1696105\n",
      "City Name: ucluelet, City ID: 6171633\n",
      "City Name: medea, City ID: 2488835\n",
      "City Name: fayetteville, City ID: 4466033\n",
      "City Name: rodeo, City ID: 5388467\n",
      "City Name: namatanai, City ID: 2090021\n",
      "City Name: takoradi, City ID: 2294915\n",
      "City Name: cajamarca, City ID: 3699088\n",
      "City Name: simao, City ID: 1794209\n",
      "City Name: parma, City ID: 3171457\n",
      "City Name: tual, City ID: 1623197\n",
      "City Name: pyshchug, City ID: 503401\n",
      "City Name: quelimane, City ID: 1028434\n"
     ]
    }
   ],
   "source": [
    "\n",
    "# Set base url and units variables, and combine them to get the query url\n",
    "url = \"http://api.openweathermap.org/data/2.5/weather?\"\n",
    "units = \"imperial\"\n",
    "query_url = f\"{url}appid={weather_api_key}&units={units}&q=\"\n",
    "\n",
    "# Create empty lists to store the data for each field\n",
    "city_id_list = []\n",
    "city_name_list = []\n",
    "country_list = []\n",
    "lng_list = []\n",
    "lat_list = []\n",
    "temp_list = []\n",
    "humidity_list = []\n",
    "clouds_list = []\n",
    "wind_speed_list = []\n",
    "\n",
    "# Loop through cities\n",
    "for city in cities:\n",
    "    response_json = requests.get(query_url + city).json()\n",
    "    try:\n",
    "        \n",
    "        city_id = response_json['id']\n",
    "        city_id_list.append(city_id)\n",
    "            \n",
    "        city_name = response_json['name']\n",
    "        city_name_list.append(city_name)\n",
    "        \n",
    "        country_name = response_json['sys']['country']\n",
    "        country_list.append(country_name)\n",
    "\n",
    "        lng = response_json['coord']['lon']\n",
    "        lng_list.append(lng)\n",
    "\n",
    "        lat = response_json['coord']['lat']\n",
    "        lat_list.append(lat)\n",
    "\n",
    "        temp = response_json['main']['temp']\n",
    "        temp_list.append(temp)\n",
    "\n",
    "        humidity = response_json['main']['humidity']\n",
    "        humidity_list.append(humidity)\n",
    "\n",
    "        clouds = response_json['clouds']['all']\n",
    "        clouds_list.append(clouds)\n",
    "\n",
    "        wind_speed = response_json['wind']['speed']\n",
    "        wind_speed_list.append(wind_speed)\n",
    "    \n",
    "        print(f\"City Name: {city}, City ID: {city_id}\")\n",
    "    \n",
    "    # Print error message and move on to the next city if there is an error\n",
    "    except:\n",
    "        \n",
    "        print(\"There is no record, continue to the next record...\")\n"
   ]
  },
  {
   "cell_type": "markdown",
   "metadata": {},
   "source": [
    "### Convert Raw Data to DataFrame\n",
    "* Export the city data into a .csv.\n",
    "* Display the DataFrame"
   ]
  },
  {
   "cell_type": "code",
   "execution_count": 4,
   "metadata": {},
   "outputs": [
    {
     "data": {
      "text/html": [
       "<div>\n",
       "<style scoped>\n",
       "    .dataframe tbody tr th:only-of-type {\n",
       "        vertical-align: middle;\n",
       "    }\n",
       "\n",
       "    .dataframe tbody tr th {\n",
       "        vertical-align: top;\n",
       "    }\n",
       "\n",
       "    .dataframe thead th {\n",
       "        text-align: right;\n",
       "    }\n",
       "</style>\n",
       "<table border=\"1\" class=\"dataframe\">\n",
       "  <thead>\n",
       "    <tr style=\"text-align: right;\">\n",
       "      <th></th>\n",
       "      <th>City ID</th>\n",
       "      <th>City</th>\n",
       "      <th>Country</th>\n",
       "      <th>Lat</th>\n",
       "      <th>Lng</th>\n",
       "      <th>Temperature</th>\n",
       "      <th>Humidity</th>\n",
       "      <th>Clouds</th>\n",
       "      <th>Wind Speed</th>\n",
       "    </tr>\n",
       "  </thead>\n",
       "  <tbody>\n",
       "    <tr>\n",
       "      <th>0</th>\n",
       "      <td>2155415</td>\n",
       "      <td>New Norfolk</td>\n",
       "      <td>AU</td>\n",
       "      <td>-42.7826</td>\n",
       "      <td>147.0587</td>\n",
       "      <td>66.67</td>\n",
       "      <td>47</td>\n",
       "      <td>43</td>\n",
       "      <td>1.99</td>\n",
       "    </tr>\n",
       "    <tr>\n",
       "      <th>1</th>\n",
       "      <td>3374210</td>\n",
       "      <td>São Filipe</td>\n",
       "      <td>CV</td>\n",
       "      <td>14.8961</td>\n",
       "      <td>-24.4956</td>\n",
       "      <td>68.49</td>\n",
       "      <td>75</td>\n",
       "      <td>4</td>\n",
       "      <td>13.69</td>\n",
       "    </tr>\n",
       "    <tr>\n",
       "      <th>2</th>\n",
       "      <td>4020109</td>\n",
       "      <td>Atuona</td>\n",
       "      <td>PF</td>\n",
       "      <td>-9.8000</td>\n",
       "      <td>-139.0333</td>\n",
       "      <td>80.29</td>\n",
       "      <td>78</td>\n",
       "      <td>29</td>\n",
       "      <td>12.97</td>\n",
       "    </tr>\n",
       "    <tr>\n",
       "      <th>3</th>\n",
       "      <td>2110227</td>\n",
       "      <td>Butaritari</td>\n",
       "      <td>KI</td>\n",
       "      <td>3.0707</td>\n",
       "      <td>172.7902</td>\n",
       "      <td>81.23</td>\n",
       "      <td>78</td>\n",
       "      <td>50</td>\n",
       "      <td>15.52</td>\n",
       "    </tr>\n",
       "    <tr>\n",
       "      <th>4</th>\n",
       "      <td>5655240</td>\n",
       "      <td>Great Falls</td>\n",
       "      <td>US</td>\n",
       "      <td>47.5002</td>\n",
       "      <td>-111.3008</td>\n",
       "      <td>19.49</td>\n",
       "      <td>73</td>\n",
       "      <td>40</td>\n",
       "      <td>6.91</td>\n",
       "    </tr>\n",
       "  </tbody>\n",
       "</table>\n",
       "</div>"
      ],
      "text/plain": [
       "   City ID         City Country      Lat       Lng  Temperature  Humidity  \\\n",
       "0  2155415  New Norfolk      AU -42.7826  147.0587        66.67        47   \n",
       "1  3374210   São Filipe      CV  14.8961  -24.4956        68.49        75   \n",
       "2  4020109       Atuona      PF  -9.8000 -139.0333        80.29        78   \n",
       "3  2110227   Butaritari      KI   3.0707  172.7902        81.23        78   \n",
       "4  5655240  Great Falls      US  47.5002 -111.3008        19.49        73   \n",
       "\n",
       "   Clouds  Wind Speed  \n",
       "0      43        1.99  \n",
       "1       4       13.69  \n",
       "2      29       12.97  \n",
       "3      50       15.52  \n",
       "4      40        6.91  "
      ]
     },
     "execution_count": 4,
     "metadata": {},
     "output_type": "execute_result"
    }
   ],
   "source": [
    "# Convert the data into a dataframe\n",
    "cities_df = pd.DataFrame({\"City ID\": city_id_list, \"City\": city_name_list, \"Country\": country_list, \"Lat\": lat_list, \"Lng\": lng_list,\n",
    "                         \"Temperature\": temp_list, \"Humidity\": humidity_list, \"Clouds\": clouds_list,\n",
    "                         \"Wind Speed\": wind_speed_list})\n",
    "cities_df.head()\n",
    "\n"
   ]
  },
  {
   "cell_type": "code",
   "execution_count": null,
   "metadata": {},
   "outputs": [],
   "source": []
  },
  {
   "cell_type": "code",
   "execution_count": 5,
   "metadata": {},
   "outputs": [],
   "source": [
    "# Export to .csv file\n",
    "\n",
    "cities_df.to_csv(\"../Output_data/city_weather.csv\", index=False, header=True)"
   ]
  },
  {
   "cell_type": "markdown",
   "metadata": {},
   "source": [
    "## Inspect the data and remove the cities where the humidity > 100%.\n",
    "----\n",
    "Skip this step if there are no cities that have humidity > 100%. "
   ]
  },
  {
   "cell_type": "code",
   "execution_count": 6,
   "metadata": {},
   "outputs": [
    {
     "data": {
      "text/html": [
       "<div>\n",
       "<style scoped>\n",
       "    .dataframe tbody tr th:only-of-type {\n",
       "        vertical-align: middle;\n",
       "    }\n",
       "\n",
       "    .dataframe tbody tr th {\n",
       "        vertical-align: top;\n",
       "    }\n",
       "\n",
       "    .dataframe thead th {\n",
       "        text-align: right;\n",
       "    }\n",
       "</style>\n",
       "<table border=\"1\" class=\"dataframe\">\n",
       "  <thead>\n",
       "    <tr style=\"text-align: right;\">\n",
       "      <th></th>\n",
       "      <th>City ID</th>\n",
       "      <th>Lat</th>\n",
       "      <th>Lng</th>\n",
       "      <th>Temperature</th>\n",
       "      <th>Humidity</th>\n",
       "      <th>Clouds</th>\n",
       "      <th>Wind Speed</th>\n",
       "    </tr>\n",
       "  </thead>\n",
       "  <tbody>\n",
       "    <tr>\n",
       "      <th>count</th>\n",
       "      <td>5.440000e+02</td>\n",
       "      <td>544.000000</td>\n",
       "      <td>544.000000</td>\n",
       "      <td>544.000000</td>\n",
       "      <td>544.000000</td>\n",
       "      <td>544.000000</td>\n",
       "      <td>544.000000</td>\n",
       "    </tr>\n",
       "    <tr>\n",
       "      <th>mean</th>\n",
       "      <td>2.742280e+06</td>\n",
       "      <td>18.821425</td>\n",
       "      <td>18.552271</td>\n",
       "      <td>51.082004</td>\n",
       "      <td>74.272059</td>\n",
       "      <td>49.341912</td>\n",
       "      <td>7.833272</td>\n",
       "    </tr>\n",
       "    <tr>\n",
       "      <th>std</th>\n",
       "      <td>1.646456e+06</td>\n",
       "      <td>33.595312</td>\n",
       "      <td>91.488112</td>\n",
       "      <td>32.244504</td>\n",
       "      <td>20.714660</td>\n",
       "      <td>39.423058</td>\n",
       "      <td>5.942572</td>\n",
       "    </tr>\n",
       "    <tr>\n",
       "      <th>min</th>\n",
       "      <td>5.337200e+04</td>\n",
       "      <td>-54.800000</td>\n",
       "      <td>-179.166700</td>\n",
       "      <td>-36.560000</td>\n",
       "      <td>1.000000</td>\n",
       "      <td>0.000000</td>\n",
       "      <td>0.070000</td>\n",
       "    </tr>\n",
       "    <tr>\n",
       "      <th>25%</th>\n",
       "      <td>1.525835e+06</td>\n",
       "      <td>-9.661450</td>\n",
       "      <td>-63.186450</td>\n",
       "      <td>34.912500</td>\n",
       "      <td>66.000000</td>\n",
       "      <td>4.000000</td>\n",
       "      <td>3.440000</td>\n",
       "    </tr>\n",
       "    <tr>\n",
       "      <th>50%</th>\n",
       "      <td>2.225700e+06</td>\n",
       "      <td>20.207650</td>\n",
       "      <td>25.292200</td>\n",
       "      <td>63.470000</td>\n",
       "      <td>80.000000</td>\n",
       "      <td>43.000000</td>\n",
       "      <td>6.110000</td>\n",
       "    </tr>\n",
       "    <tr>\n",
       "      <th>75%</th>\n",
       "      <td>3.662486e+06</td>\n",
       "      <td>47.701025</td>\n",
       "      <td>100.175500</td>\n",
       "      <td>75.872500</td>\n",
       "      <td>88.000000</td>\n",
       "      <td>90.000000</td>\n",
       "      <td>10.387500</td>\n",
       "    </tr>\n",
       "    <tr>\n",
       "      <th>max</th>\n",
       "      <td>1.072286e+07</td>\n",
       "      <td>78.218600</td>\n",
       "      <td>179.316700</td>\n",
       "      <td>93.200000</td>\n",
       "      <td>100.000000</td>\n",
       "      <td>100.000000</td>\n",
       "      <td>40.910000</td>\n",
       "    </tr>\n",
       "  </tbody>\n",
       "</table>\n",
       "</div>"
      ],
      "text/plain": [
       "            City ID         Lat         Lng  Temperature    Humidity  \\\n",
       "count  5.440000e+02  544.000000  544.000000   544.000000  544.000000   \n",
       "mean   2.742280e+06   18.821425   18.552271    51.082004   74.272059   \n",
       "std    1.646456e+06   33.595312   91.488112    32.244504   20.714660   \n",
       "min    5.337200e+04  -54.800000 -179.166700   -36.560000    1.000000   \n",
       "25%    1.525835e+06   -9.661450  -63.186450    34.912500   66.000000   \n",
       "50%    2.225700e+06   20.207650   25.292200    63.470000   80.000000   \n",
       "75%    3.662486e+06   47.701025  100.175500    75.872500   88.000000   \n",
       "max    1.072286e+07   78.218600  179.316700    93.200000  100.000000   \n",
       "\n",
       "           Clouds  Wind Speed  \n",
       "count  544.000000  544.000000  \n",
       "mean    49.341912    7.833272  \n",
       "std     39.423058    5.942572  \n",
       "min      0.000000    0.070000  \n",
       "25%      4.000000    3.440000  \n",
       "50%     43.000000    6.110000  \n",
       "75%     90.000000   10.387500  \n",
       "max    100.000000   40.910000  "
      ]
     },
     "execution_count": 6,
     "metadata": {},
     "output_type": "execute_result"
    }
   ],
   "source": [
    "cities_df.describe()\n"
   ]
  },
  {
   "cell_type": "code",
   "execution_count": 7,
   "metadata": {},
   "outputs": [
    {
     "data": {
      "text/plain": [
       "Int64Index([], dtype='int64')"
      ]
     },
     "execution_count": 7,
     "metadata": {},
     "output_type": "execute_result"
    }
   ],
   "source": [
    "#  Get the indices of cities that have humidity over 100%.\n",
    "\n",
    "humid_city_data = cities_df[(cities_df[\"Humidity\"] > 100)].index\n",
    "                                  \n",
    "humid_city_data"
   ]
  },
  {
   "cell_type": "code",
   "execution_count": 8,
   "metadata": {},
   "outputs": [
    {
     "data": {
      "text/html": [
       "<div>\n",
       "<style scoped>\n",
       "    .dataframe tbody tr th:only-of-type {\n",
       "        vertical-align: middle;\n",
       "    }\n",
       "\n",
       "    .dataframe tbody tr th {\n",
       "        vertical-align: top;\n",
       "    }\n",
       "\n",
       "    .dataframe thead th {\n",
       "        text-align: right;\n",
       "    }\n",
       "</style>\n",
       "<table border=\"1\" class=\"dataframe\">\n",
       "  <thead>\n",
       "    <tr style=\"text-align: right;\">\n",
       "      <th></th>\n",
       "      <th>City ID</th>\n",
       "      <th>City</th>\n",
       "      <th>Country</th>\n",
       "      <th>Lat</th>\n",
       "      <th>Lng</th>\n",
       "      <th>Temperature</th>\n",
       "      <th>Humidity</th>\n",
       "      <th>Clouds</th>\n",
       "      <th>Wind Speed</th>\n",
       "    </tr>\n",
       "  </thead>\n",
       "  <tbody>\n",
       "    <tr>\n",
       "      <th>0</th>\n",
       "      <td>2155415</td>\n",
       "      <td>New Norfolk</td>\n",
       "      <td>AU</td>\n",
       "      <td>-42.7826</td>\n",
       "      <td>147.0587</td>\n",
       "      <td>66.67</td>\n",
       "      <td>47</td>\n",
       "      <td>43</td>\n",
       "      <td>1.99</td>\n",
       "    </tr>\n",
       "    <tr>\n",
       "      <th>1</th>\n",
       "      <td>3374210</td>\n",
       "      <td>São Filipe</td>\n",
       "      <td>CV</td>\n",
       "      <td>14.8961</td>\n",
       "      <td>-24.4956</td>\n",
       "      <td>68.49</td>\n",
       "      <td>75</td>\n",
       "      <td>4</td>\n",
       "      <td>13.69</td>\n",
       "    </tr>\n",
       "    <tr>\n",
       "      <th>2</th>\n",
       "      <td>4020109</td>\n",
       "      <td>Atuona</td>\n",
       "      <td>PF</td>\n",
       "      <td>-9.8000</td>\n",
       "      <td>-139.0333</td>\n",
       "      <td>80.29</td>\n",
       "      <td>78</td>\n",
       "      <td>29</td>\n",
       "      <td>12.97</td>\n",
       "    </tr>\n",
       "    <tr>\n",
       "      <th>3</th>\n",
       "      <td>2110227</td>\n",
       "      <td>Butaritari</td>\n",
       "      <td>KI</td>\n",
       "      <td>3.0707</td>\n",
       "      <td>172.7902</td>\n",
       "      <td>81.23</td>\n",
       "      <td>78</td>\n",
       "      <td>50</td>\n",
       "      <td>15.52</td>\n",
       "    </tr>\n",
       "    <tr>\n",
       "      <th>4</th>\n",
       "      <td>5655240</td>\n",
       "      <td>Great Falls</td>\n",
       "      <td>US</td>\n",
       "      <td>47.5002</td>\n",
       "      <td>-111.3008</td>\n",
       "      <td>19.49</td>\n",
       "      <td>73</td>\n",
       "      <td>40</td>\n",
       "      <td>6.91</td>\n",
       "    </tr>\n",
       "  </tbody>\n",
       "</table>\n",
       "</div>"
      ],
      "text/plain": [
       "   City ID         City Country      Lat       Lng  Temperature  Humidity  \\\n",
       "0  2155415  New Norfolk      AU -42.7826  147.0587        66.67        47   \n",
       "1  3374210   São Filipe      CV  14.8961  -24.4956        68.49        75   \n",
       "2  4020109       Atuona      PF  -9.8000 -139.0333        80.29        78   \n",
       "3  2110227   Butaritari      KI   3.0707  172.7902        81.23        78   \n",
       "4  5655240  Great Falls      US  47.5002 -111.3008        19.49        73   \n",
       "\n",
       "   Clouds  Wind Speed  \n",
       "0      43        1.99  \n",
       "1       4       13.69  \n",
       "2      29       12.97  \n",
       "3      50       15.52  \n",
       "4      40        6.91  "
      ]
     },
     "execution_count": 8,
     "metadata": {},
     "output_type": "execute_result"
    }
   ],
   "source": [
    "# Make a new DataFrame equal to the city data to drop all humidity outliers by index.\n",
    "# Passing \"inplace=False\" will make a copy of the city_data DataFrame, which we call \"clean_city_data\".\n",
    "clean_city_data = cities_df.drop(humid_city_data, inplace=False)\n",
    "clean_city_data.head()\n"
   ]
  },
  {
   "cell_type": "code",
   "execution_count": 9,
   "metadata": {},
   "outputs": [],
   "source": [
    "clean_city_data.to_csv(\"../Output_data/clean_city_data.csv\", index=False, header=True)"
   ]
  },
  {
   "cell_type": "markdown",
   "metadata": {},
   "source": [
    "## Plotting the Data\n",
    "* Use proper labeling of the plots using plot titles (including date of analysis) and axes labels.\n",
    "* Save the plotted figures as .pngs."
   ]
  },
  {
   "cell_type": "markdown",
   "metadata": {},
   "source": [
    "## Latitude vs. Temperature Plot"
   ]
  },
  {
   "cell_type": "code",
   "execution_count": 10,
   "metadata": {
    "scrolled": false
   },
   "outputs": [
    {
     "data": {
      "image/png": "[encoded data removed]",
      "text/plain": [
       "<Figure size 432x288 with 1 Axes>"
      ]
     },
     "metadata": {
      "needs_background": "light"
     },
     "output_type": "display_data"
    }
   ],
   "source": [
    "x_values = cities_df[\"Lat\"]\n",
    "y_values = cities_df[\"Temperature\"]\n",
    "plt.scatter(x_values,y_values)\n",
    "plt.title(f'City Latitude vs. Temperature {date.today()}')\n",
    "plt.xlabel('Latitude')\n",
    "plt.ylabel('Temperature (F)')\n",
    "plt.ylim(0, 100)\n",
    "plt.xlim(-60, 80)\n",
    "plt.minorticks_on()\n",
    "plt.grid(which='major', linestyle='-')\n",
    "plt.grid(which='minor', linestyle=':')\n",
    "plt.tight_layout()\n",
    "plt.savefig(\"../output_data/City Latitude vs. Temperature.png\")\n",
    "plt.show()\n",
    "\n"
   ]
  },
  {
   "cell_type": "markdown",
   "metadata": {},
   "source": [
    "## Latitude vs. Humidity Plot"
   ]
  },
  {
   "cell_type": "code",
   "execution_count": 11,
   "metadata": {
    "scrolled": false
   },
   "outputs": [
    {
     "data": {
      "image/png": "[encoded data removed]",
      "text/plain": [
       "<Figure size 432x288 with 1 Axes>"
      ]
     },
     "metadata": {
      "needs_background": "light"
     },
     "output_type": "display_data"
    }
   ],
   "source": [
    "x_values = cities_df[\"Lat\"]\n",
    "y_values = cities_df[\"Humidity\"]\n",
    "plt.scatter(x_values,y_values)\n",
    "plt.title(f'Latitude vs. Humidity {date.today()}')\n",
    "plt.xlabel('Latitude')\n",
    "plt.ylabel('Humidity (%)')\n",
    "plt.ylim(0, 105)\n",
    "plt.xlim(-60, 80)\n",
    "plt.minorticks_on()\n",
    "plt.grid(which='major', linestyle='-')\n",
    "plt.grid(which='minor', linestyle=':')\n",
    "plt.tight_layout()\n",
    "plt.savefig(\"../output_data/Humidity at Latitude Positions.png\")\n",
    "plt.show()\n"
   ]
  },
  {
   "cell_type": "markdown",
   "metadata": {},
   "source": [
    "## Latitude vs. Cloudiness Plot"
   ]
  },
  {
   "cell_type": "code",
   "execution_count": 12,
   "metadata": {},
   "outputs": [
    {
     "data": {
      "image/png": "[encoded data removed]",
      "text/plain": [
       "<Figure size 432x288 with 1 Axes>"
      ]
     },
     "metadata": {
      "needs_background": "light"
     },
     "output_type": "display_data"
    }
   ],
   "source": [
    "x_values = cities_df[\"Lat\"]\n",
    "y_values = cities_df[\"Clouds\"]\n",
    "plt.scatter(x_values,y_values)\n",
    "plt.title(f'Latitude vs. Cloudiness {date.today()}')\n",
    "plt.xlabel('Latitude')\n",
    "plt.ylabel('Clouds')\n",
    "plt.ylim(0, 100)\n",
    "plt.xlim(-60, 80)\n",
    "plt.minorticks_on()\n",
    "plt.grid(which='major', linestyle='-')\n",
    "plt.grid(which='minor', linestyle=':')\n",
    "plt.tight_layout()\n",
    "plt.savefig(\"../output_data/Latitude vs. Cloudiness.png\")\n",
    "plt.show()"
   ]
  },
  {
   "cell_type": "markdown",
   "metadata": {},
   "source": [
    "## Latitude vs. Wind Speed Plot"
   ]
  },
  {
   "cell_type": "code",
   "execution_count": 13,
   "metadata": {},
   "outputs": [
    {
     "data": {
      "image/png": "[encoded data removed]",
      "text/plain": [
       "<Figure size 432x288 with 1 Axes>"
      ]
     },
     "metadata": {
      "needs_background": "light"
     },
     "output_type": "display_data"
    }
   ],
   "source": [
    "x_values = cities_df[\"Lat\"]\n",
    "y_values = cities_df[\"Wind Speed\"]\n",
    "plt.scatter(x_values,y_values)\n",
    "plt.title(f'Latitude vs. Wind Speed {date.today()}')\n",
    "plt.xlabel('Latitude')\n",
    "plt.ylabel('Wind Speed')\n",
    "plt.ylim(0, 100)\n",
    "plt.xlim(-60, 80)\n",
    "plt.minorticks_on()\n",
    "plt.grid(which='major', linestyle='-')\n",
    "plt.grid(which='minor', linestyle=':')\n",
    "plt.tight_layout()\n",
    "plt.savefig(\"../output_data/Latitude vs. Wind Speed.png\")\n",
    "plt.show()"
   ]
  },
  {
   "cell_type": "markdown",
   "metadata": {},
   "source": [
    "## Linear Regression"
   ]
  },
  {
   "cell_type": "code",
   "execution_count": 14,
   "metadata": {},
   "outputs": [],
   "source": [
    "\n",
    "def plot_linear_regression(x_values, y_values, title, text_coordinates, ifig):\n",
    "    (slope, intercept, rvalue, pvalue, stderr) = linregress(x_values, y_values)\n",
    "    print(f\"The r-squared is: {rvalue}\")\n",
    "    regress_values = x_values * slope + intercept\n",
    "    line_eq = \"y = \" + str(round(slope,2)) + \"x + \" + str(round(intercept,2))\n",
    "\n",
    "    plt.scatter(x_values,y_values)\n",
    "    plt.plot(x_values,regress_values,\"r-\")\n",
    "    plt.annotate(line_eq,text_coordinates,fontsize=15,color=\"red\")\n",
    "    plt.xlabel('Latitude')\n",
    "    plt.ylabel(title)\n",
    "    plt.savefig(f\"../output_data/fig{ifig}.png\")\n",
    "    plt.show()"
   ]
  },
  {
   "cell_type": "code",
   "execution_count": 15,
   "metadata": {},
   "outputs": [],
   "source": [
    "northern_df = cities_df.loc[(cities_df[\"Lat\"] >= 0)]\n",
    "southern_df = cities_df.loc[(cities_df[\"Lat\"] < 0)]"
   ]
  },
  {
   "cell_type": "markdown",
   "metadata": {},
   "source": [
    "####  Northern Hemisphere - Max Temp vs. Latitude Linear Regression"
   ]
  },
  {
   "cell_type": "code",
   "execution_count": 16,
   "metadata": {},
   "outputs": [
    {
     "name": "stdout",
     "output_type": "stream",
     "text": [
      "The r-squared is: 1.0\n"
     ]
    },
    {
     "data": {
      "image/png": "[encoded data removed]",
      "text/plain": [
       "<Figure size 432x288 with 1 Axes>"
      ]
     },
     "metadata": {
      "needs_background": "light"
     },
     "output_type": "display_data"
    }
   ],
   "source": [
    "x_values = \"Lat\"\n",
    "y_values = \"Temperature\"\n",
    "text_coordinates = (0,25)\n",
    "plot_linear_regression(northern_df[y_values],northern_df[y_values],y_values,text_coordinates,5)"
   ]
  },
  {
   "cell_type": "markdown",
   "metadata": {},
   "source": [
    "####  Southern Hemisphere - Max Temp vs. Latitude Linear Regression"
   ]
  },
  {
   "cell_type": "code",
   "execution_count": 17,
   "metadata": {},
   "outputs": [
    {
     "name": "stdout",
     "output_type": "stream",
     "text": [
      "The r-squared is: 1.0\n"
     ]
    },
    {
     "data": {
      "image/png": "[encoded data removed]",
      "text/plain": [
       "<Figure size 432x288 with 1 Axes>"
      ]
     },
     "metadata": {
      "needs_background": "light"
     },
     "output_type": "display_data"
    }
   ],
   "source": [
    "x_values = \"Lat\"\n",
    "y_values = \"Temperature\"\n",
    "text_coordinates = (-55,90)\n",
    "plot_linear_regression(southern_df[y_values],southern_df[y_values],y_values,text_coordinates,6)"
   ]
  },
  {
   "cell_type": "markdown",
   "metadata": {},
   "source": [
    "####  Northern Hemisphere - Humidity (%) vs. Latitude Linear Regression"
   ]
  },
  {
   "cell_type": "code",
   "execution_count": 18,
   "metadata": {},
   "outputs": [
    {
     "name": "stdout",
     "output_type": "stream",
     "text": [
      "The r-squared is: 1.0\n"
     ]
    },
    {
     "data": {
      "image/png": "[encoded data removed]",
      "text/plain": [
       "<Figure size 432x288 with 1 Axes>"
      ]
     },
     "metadata": {
      "needs_background": "light"
     },
     "output_type": "display_data"
    }
   ],
   "source": [
    "x_values = \"Lat\"\n",
    "y_values = \"Humidity\"\n",
    "text_coordinates = (45,10)\n",
    "plot_linear_regression(northern_df[y_values],northern_df[y_values],y_values,text_coordinates,7)"
   ]
  },
  {
   "cell_type": "markdown",
   "metadata": {},
   "source": [
    "####  Southern Hemisphere - Humidity (%) vs. Latitude Linear Regression"
   ]
  },
  {
   "cell_type": "code",
   "execution_count": 19,
   "metadata": {
    "scrolled": true
   },
   "outputs": [
    {
     "name": "stdout",
     "output_type": "stream",
     "text": [
      "The r-squared is: 1.0\n"
     ]
    },
    {
     "data": {
      "image/png": "[encoded data removed]",
      "text/plain": [
       "<Figure size 432x288 with 1 Axes>"
      ]
     },
     "metadata": {
      "needs_background": "light"
     },
     "output_type": "display_data"
    }
   ],
   "source": [
    "x_values = \"Lat\"\n",
    "y_values = \"Humidity\"\n",
    "text_coordinates = (-55,15)\n",
    "plot_linear_regression(southern_df[y_values],southern_df[y_values],y_values,text_coordinates,8)"
   ]
  },
  {
   "cell_type": "markdown",
   "metadata": {},
   "source": [
    "####  Northern Hemisphere - Cloudiness (%) vs. Latitude Linear Regression"
   ]
  },
  {
   "cell_type": "code",
   "execution_count": 20,
   "metadata": {},
   "outputs": [
    {
     "name": "stdout",
     "output_type": "stream",
     "text": [
      "The r-squared is: 1.0\n"
     ]
    },
    {
     "data": {
      "image/png": "[encoded data removed]",
      "text/plain": [
       "<Figure size 432x288 with 1 Axes>"
      ]
     },
     "metadata": {
      "needs_background": "light"
     },
     "output_type": "display_data"
    }
   ],
   "source": [
    "x_values = \"Lat\"\n",
    "y_values = \"Clouds\"\n",
    "text_coordinates = (20,30)\n",
    "plot_linear_regression(northern_df[y_values],northern_df[y_values],y_values,text_coordinates,9)"
   ]
  },
  {
   "cell_type": "markdown",
   "metadata": {},
   "source": [
    "####  Southern Hemisphere - Cloudiness (%) vs. Latitude Linear Regression"
   ]
  },
  {
   "cell_type": "code",
   "execution_count": 21,
   "metadata": {},
   "outputs": [
    {
     "name": "stdout",
     "output_type": "stream",
     "text": [
      "The r-squared is: 1.0\n"
     ]
    },
    {
     "data": {
      "image/png": "[encoded data removed]",
      "text/plain": [
       "<Figure size 432x288 with 1 Axes>"
      ]
     },
     "metadata": {
      "needs_background": "light"
     },
     "output_type": "display_data"
    }
   ],
   "source": [
    "x_values = \"Lat\"\n",
    "y_values = \"Clouds\"\n",
    "text_coordinates = (-50,55)\n",
    "plot_linear_regression(southern_df[y_values],southern_df[y_values],y_values,text_coordinates,10)"
   ]
  },
  {
   "cell_type": "markdown",
   "metadata": {},
   "source": [
    "####  Northern Hemisphere - Wind Speed (mph) vs. Latitude Linear Regression"
   ]
  },
  {
   "cell_type": "code",
   "execution_count": 22,
   "metadata": {},
   "outputs": [
    {
     "name": "stdout",
     "output_type": "stream",
     "text": [
      "The r-squared is: 1.0\n"
     ]
    },
    {
     "data": {
      "image/png": "[encoded data removed]",
      "text/plain": [
       "<Figure size 432x288 with 1 Axes>"
      ]
     },
     "metadata": {
      "needs_background": "light"
     },
     "output_type": "display_data"
    }
   ],
   "source": [
    "x_values = \"Lat\"\n",
    "y_values = \"Wind Speed\"\n",
    "text_coordinates = (40,25)\n",
    "plot_linear_regression(northern_df[y_values],northern_df[y_values],y_values,text_coordinates,9)"
   ]
  },
  {
   "cell_type": "markdown",
   "metadata": {},
   "source": [
    "####  Southern Hemisphere - Wind Speed (mph) vs. Latitude Linear Regression"
   ]
  },
  {
   "cell_type": "code",
   "execution_count": 23,
   "metadata": {},
   "outputs": [
    {
     "name": "stdout",
     "output_type": "stream",
     "text": [
      "The r-squared is: 1.0\n"
     ]
    },
    {
     "data": {
      "image/png": "[encoded data removed]",
      "text/plain": [
       "<Figure size 432x288 with 1 Axes>"
      ]
     },
     "metadata": {
      "needs_background": "light"
     },
     "output_type": "display_data"
    }
   ],
   "source": [
    "x_values = \"Lat\"\n",
    "y_values = \"Wind Speed\"\n",
    "text_coordinates = (-50, 20)\n",
    "plot_linear_regression(southern_df[y_values],southern_df[y_values],y_values,text_coordinates,10)"
   ]
  },
  {
   "cell_type": "code",
   "execution_count": null,
   "metadata": {},
   "outputs": [],
   "source": []
  }
 ],
 "metadata": {
  "anaconda-cloud": {},
  "kernel_info": {
   "name": "python3"
  },
  "kernelspec": {
   "display_name": "Python 3",
   "language": "python",
   "name": "python3"
  },
  "language_info": {
   "codemirror_mode": {
    "name": "ipython",
    "version": 3
   },
   "file_extension": ".py",
   "mimetype": "text/x-python",
   "name": "python",
   "nbconvert_exporter": "python",
   "pygments_lexer": "ipython3",
   "version": "3.8.5"
  },
  "latex_envs": {
   "LaTeX_envs_menu_present": true,
   "autoclose": false,
   "autocomplete": true,
   "bibliofile": "biblio.bib",
   "cite_by": "apalike",
   "current_citInitial": 1,
   "eqLabelWithNumbers": true,
   "eqNumInitial": 1,
   "hotkeys": {
    "equation": "Ctrl-E",
    "itemize": "Ctrl-I"
   },
   "labels_anchors": false,
   "latex_user_defs": false,
   "report_style_numbering": false,
   "user_envs_cfg": false
  },
  "nteract": {
   "version": "0.12.3"
  }
 },
 "nbformat": 4,
 "nbformat_minor": 2
}
