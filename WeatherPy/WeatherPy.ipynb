{
 "cells": [
  {
   "cell_type": "markdown",
   "metadata": {},
   "source": [
    "# WeatherPy\n",
    "----\n",
    "\n",
    "#### Note\n",
    "* Instructions have been included for each segment. You do not have to follow them exactly, but they are included to help you think through the steps."
   ]
  },
  {
   "cell_type": "code",
   "execution_count": 1,
   "metadata": {
    "scrolled": true
   },
   "outputs": [],
   "source": [
    "# Dependencies and Setup\n",
    "import matplotlib.pyplot as plt\n",
    "import pandas as pd\n",
    "import numpy as np\n",
    "import requests\n",
    "import time\n",
    "from datetime import date\n",
    "from scipy.stats import linregress\n",
    "\n",
    "# Import API key\n",
    "from api_keys import weather_api_key\n",
    "\n",
    "# Incorporated citipy to determine city based on latitude and longitude\n",
    "from citipy import citipy\n",
    "\n",
    "# Output File (CSV)\n",
    "output_data_file = \"../output_data/cities.csv\"\n",
    "\n",
    "# Range of latitudes and longitudes\n",
    "lat_range = (-90, 90)\n",
    "lng_range = (-180, 180)"
   ]
  },
  {
   "cell_type": "markdown",
   "metadata": {},
   "source": [
    "\n",
    "## Generate Cities List"
   ]
  },
  {
   "cell_type": "code",
   "execution_count": 2,
   "metadata": {},
   "outputs": [
    {
     "data": {
      "text/plain": [
       "602"
      ]
     },
     "execution_count": 2,
     "metadata": {},
     "output_type": "execute_result"
    }
   ],
   "source": [
    "# List for holding lat_lngs and cities\n",
    "lat_lngs = []\n",
    "cities = []\n",
    "\n",
    "# Create a set of random lat and lng combinations\n",
    "lats = np.random.uniform(lat_range[0], lat_range[1], size=1500)\n",
    "lngs = np.random.uniform(lng_range[0], lng_range[1], size=1500)\n",
    "lat_lngs = zip(lats, lngs)\n",
    "\n",
    "# Identify nearest city for each lat, lng combination\n",
    "for lat_lng in lat_lngs:\n",
    "    city = citipy.nearest_city(lat_lng[0], lat_lng[1]).city_name\n",
    "    \n",
    "    # If the city is unique, then add it to a our cities list\n",
    "    if city not in cities:\n",
    "        cities.append(city)\n",
    "\n",
    "# Print the city count to confirm sufficient count\n",
    "len(cities)"
   ]
  },
  {
   "cell_type": "markdown",
   "metadata": {},
   "source": [
    "### Perform API Calls\n",
    "* Perform a weather check on each city using a series of successive API calls.\n",
    "* Include a print log of each city as it'sbeing processed (with the city number and city name).\n"
   ]
  },
  {
   "cell_type": "code",
   "execution_count": 3,
   "metadata": {
    "scrolled": true
   },
   "outputs": [
    {
     "name": "stdout",
     "output_type": "stream",
     "text": [
      "City Name: avarua, City ID: 4035715\n",
      "City Name: save, City ID: 2391893\n",
      "City Name: bluff, City ID: 2206939\n",
      "City Name: ust-omchug, City ID: 2120047\n",
      "City Name: kirkwall, City ID: 2645198\n",
      "City Name: puerto ayora, City ID: 3652764\n",
      "City Name: hamilton, City ID: 4513583\n",
      "City Name: grindavik, City ID: 3416888\n",
      "There is no record, continue to the next record...\n",
      "City Name: vaini, City ID: 4032243\n",
      "City Name: bouca, City ID: 2387890\n",
      "City Name: labuhan, City ID: 8079926\n",
      "City Name: ribeira grande, City ID: 3372707\n",
      "City Name: kaitangata, City ID: 2208248\n",
      "City Name: tuktoyaktuk, City ID: 6170031\n",
      "City Name: castro, City ID: 3466704\n",
      "City Name: yerbogachen, City ID: 2012956\n",
      "City Name: roald, City ID: 3141667\n",
      "City Name: ketchikan, City ID: 5554428\n",
      "City Name: safford, City ID: 5312476\n",
      "City Name: imbituba, City ID: 3461370\n",
      "City Name: grenfell, City ID: 2164457\n",
      "City Name: padang, City ID: 1633419\n",
      "City Name: saldanha, City ID: 3361934\n",
      "City Name: ushuaia, City ID: 3833367\n",
      "City Name: ban nahin, City ID: 1661950\n",
      "City Name: mataura, City ID: 6201424\n",
      "There is no record, continue to the next record...\n",
      "City Name: dutlwe, City ID: 933787\n",
      "City Name: sandwick, City ID: 2638534\n",
      "City Name: souillac, City ID: 933995\n",
      "City Name: cidreira, City ID: 3466165\n",
      "City Name: hithadhoo, City ID: 1282256\n",
      "City Name: barrow, City ID: 5880054\n",
      "City Name: punta arenas, City ID: 3874787\n",
      "City Name: kieta, City ID: 2094027\n",
      "City Name: henties bay, City ID: 3356832\n",
      "City Name: lorengau, City ID: 2092164\n",
      "City Name: atar, City ID: 2381334\n",
      "City Name: hilo, City ID: 5855927\n",
      "City Name: sakleshpur, City ID: 1257698\n",
      "City Name: kahului, City ID: 5847411\n",
      "City Name: pevek, City ID: 2122090\n",
      "City Name: tazovskiy, City ID: 1489853\n",
      "City Name: nyurba, City ID: 2018735\n",
      "City Name: san jose, City ID: 5392171\n",
      "City Name: iqaluit, City ID: 5983720\n",
      "City Name: victoria, City ID: 1819729\n",
      "City Name: lebu, City ID: 3883457\n",
      "City Name: new norfolk, City ID: 2155415\n",
      "City Name: santa rosa, City ID: 1687894\n",
      "City Name: thompson, City ID: 6165406\n",
      "City Name: nikolskoye, City ID: 546105\n",
      "City Name: upernavik, City ID: 3418910\n",
      "City Name: chernyshevskiy, City ID: 2025456\n",
      "City Name: rikitea, City ID: 4030556\n",
      "City Name: port hedland, City ID: 2063042\n",
      "City Name: albany, City ID: 5106841\n",
      "City Name: carnarvon, City ID: 2074865\n",
      "City Name: cherskiy, City ID: 2126199\n",
      "City Name: arraial do cabo, City ID: 3471451\n",
      "City Name: atuona, City ID: 4020109\n",
      "City Name: novosergiyevka, City ID: 517982\n",
      "City Name: saskylakh, City ID: 2017155\n",
      "City Name: port keats, City ID: 2063039\n",
      "There is no record, continue to the next record...\n",
      "City Name: lerwick, City ID: 2644605\n",
      "City Name: marataizes, City ID: 3457819\n",
      "City Name: port moresby, City ID: 2088122\n",
      "City Name: yellowknife, City ID: 6185377\n",
      "City Name: butaritari, City ID: 2110227\n",
      "There is no record, continue to the next record...\n",
      "City Name: landerneau, City ID: 3007874\n",
      "City Name: brae, City ID: 2654970\n",
      "City Name: leesburg, City ID: 4769125\n",
      "City Name: ponta do sol, City ID: 2264557\n",
      "City Name: betafo, City ID: 1066514\n",
      "City Name: tsiroanomandidy, City ID: 1054463\n",
      "City Name: port-gentil, City ID: 2396518\n",
      "City Name: jamestown, City ID: 5122534\n",
      "City Name: hobart, City ID: 2163355\n",
      "City Name: nizwa, City ID: 286987\n",
      "City Name: mandalgovi, City ID: 2030065\n",
      "City Name: itoman, City ID: 1861280\n",
      "City Name: constitucion, City ID: 3893726\n",
      "City Name: naryan-mar, City ID: 523392\n",
      "City Name: narsaq, City ID: 3421719\n",
      "City Name: ekhabi, City ID: 2122614\n",
      "City Name: villingen-schwenningen, City ID: 2817220\n",
      "City Name: port lincoln, City ID: 2063036\n",
      "City Name: asilah, City ID: 2557055\n",
      "City Name: busselton, City ID: 2075265\n",
      "City Name: inirida, City ID: 3671450\n",
      "City Name: sorland, City ID: 3137469\n",
      "City Name: mamit, City ID: 1263983\n",
      "City Name: leiyang, City ID: 1804208\n",
      "City Name: port alfred, City ID: 964432\n",
      "City Name: geraldton, City ID: 2070998\n",
      "There is no record, continue to the next record...\n",
      "City Name: port hawkesbury, City ID: 6111867\n",
      "City Name: dhidhdhoo, City ID: 1337612\n",
      "City Name: guerrero negro, City ID: 4021858\n",
      "City Name: bethel, City ID: 5282297\n",
      "City Name: kourou, City ID: 3381303\n",
      "City Name: kapaa, City ID: 5848280\n",
      "City Name: aklavik, City ID: 5882953\n",
      "City Name: bairiki, City ID: 7601762\n",
      "City Name: comodoro rivadavia, City ID: 3860443\n",
      "City Name: mayumba, City ID: 2399001\n",
      "There is no record, continue to the next record...\n",
      "City Name: tasiilaq, City ID: 3424607\n",
      "City Name: bathsheba, City ID: 3374083\n",
      "City Name: akhmim, City ID: 361661\n",
      "There is no record, continue to the next record...\n",
      "City Name: zamora, City ID: 3649959\n",
      "City Name: mar del plata, City ID: 3430863\n",
      "City Name: nanortalik, City ID: 3421765\n",
      "City Name: port hardy, City ID: 6111862\n",
      "City Name: petropavlovsk-kamchatskiy, City ID: 2122104\n",
      "City Name: ostrovnoy, City ID: 556268\n",
      "City Name: bredasdorp, City ID: 1015776\n",
      "City Name: provideniya, City ID: 4031574\n",
      "City Name: qui nhon, City ID: 1568574\n",
      "City Name: dikson, City ID: 1507390\n",
      "City Name: ancud, City ID: 3899695\n",
      "City Name: thunder bay, City ID: 6166142\n",
      "City Name: roura, City ID: 3380450\n",
      "City Name: linxia, City ID: 1803331\n",
      "City Name: qaanaaq, City ID: 3831208\n",
      "City Name: kununurra, City ID: 2068110\n",
      "City Name: tommot, City ID: 2015179\n",
      "City Name: san patricio, City ID: 4726521\n",
      "City Name: barcelos, City ID: 2742416\n",
      "City Name: colares, City ID: 2269142\n",
      "City Name: san quintin, City ID: 3984997\n",
      "City Name: havoysund, City ID: 779622\n",
      "City Name: ife, City ID: 2338900\n",
      "City Name: redmond, City ID: 5808079\n",
      "City Name: bend, City ID: 5713587\n",
      "City Name: karasjok, City ID: 779350\n",
      "City Name: shingu, City ID: 1847947\n",
      "There is no record, continue to the next record...\n",
      "City Name: naze, City ID: 1855540\n",
      "City Name: georgetown, City ID: 1735106\n",
      "City Name: hermanus, City ID: 3366880\n",
      "City Name: damghan, City ID: 138025\n",
      "City Name: pisco, City ID: 3932145\n",
      "City Name: klaksvik, City ID: 2618795\n",
      "City Name: cape town, City ID: 3369157\n",
      "City Name: jardim, City ID: 3460087\n",
      "City Name: sayyan, City ID: 70979\n",
      "There is no record, continue to the next record...\n",
      "City Name: port macquarie, City ID: 2152659\n",
      "City Name: isangel, City ID: 2136825\n",
      "City Name: saint george, City ID: 5546220\n",
      "City Name: tubmanburg, City ID: 2273435\n",
      "City Name: boyolangu, City ID: 1648082\n",
      "City Name: chokurdakh, City ID: 2126123\n",
      "City Name: lavrentiya, City ID: 4031637\n",
      "City Name: kruisfontein, City ID: 986717\n",
      "City Name: narrabri, City ID: 2155742\n",
      "City Name: ust-maya, City ID: 2013918\n",
      "City Name: barberena, City ID: 3599582\n",
      "City Name: khatanga, City ID: 2022572\n",
      "City Name: raga, City ID: 368246\n",
      "City Name: necochea, City ID: 3430443\n",
      "City Name: mehamn, City ID: 778707\n",
      "City Name: nanakuli, City ID: 5851349\n",
      "City Name: northam, City ID: 2641434\n",
      "City Name: atascadero, City ID: 5325111\n",
      "City Name: digboi, City ID: 1272629\n",
      "City Name: sao filipe, City ID: 3374210\n",
      "City Name: tucupita, City ID: 3625929\n",
      "City Name: pahrump, City ID: 5509851\n",
      "City Name: hasaki, City ID: 2112802\n",
      "City Name: east london, City ID: 1006984\n",
      "City Name: arroyo, City ID: 3129371\n",
      "City Name: sandane, City ID: 3140431\n",
      "City Name: rawson, City ID: 3839307\n",
      "City Name: ouadda, City ID: 236901\n",
      "City Name: tiksi, City ID: 2015306\n",
      "City Name: washington, City ID: 5815135\n",
      "City Name: atbasar, City ID: 1526038\n",
      "City Name: quang ngai, City ID: 1568770\n",
      "City Name: pringsewu, City ID: 1630639\n",
      "City Name: dingle, City ID: 1714733\n",
      "There is no record, continue to the next record...\n",
      "City Name: sakaraha, City ID: 1057095\n",
      "City Name: saint-augustin, City ID: 6137462\n",
      "There is no record, continue to the next record...\n",
      "City Name: cabo san lucas, City ID: 3985710\n",
      "There is no record, continue to the next record...\n",
      "There is no record, continue to the next record...\n",
      "There is no record, continue to the next record...\n",
      "City Name: parabel, City ID: 1495586\n",
      "City Name: caravelas, City ID: 3466980\n",
      "City Name: srednekolymsk, City ID: 2121025\n",
      "City Name: faanui, City ID: 4034551\n",
      "City Name: pangnirtung, City ID: 6096551\n",
      "City Name: juegang, City ID: 1804979\n",
      "City Name: phek, City ID: 1259784\n",
      "City Name: la ronge, City ID: 6050066\n",
      "City Name: karratha, City ID: 6620339\n",
      "City Name: vredendal, City ID: 3359736\n",
      "City Name: dudinka, City ID: 1507116\n",
      "City Name: meaford, City ID: 6071496\n",
      "City Name: longyearbyen, City ID: 2729907\n",
      "City Name: broome, City ID: 5110365\n",
      "City Name: fairbanks, City ID: 5861897\n"
     ]
    },
    {
     "name": "stdout",
     "output_type": "stream",
     "text": [
      "City Name: hong gai, City ID: 1580410\n",
      "City Name: ruteng, City ID: 1629380\n",
      "City Name: monte patria, City ID: 3879429\n",
      "City Name: koungheul, City ID: 2249554\n",
      "City Name: borda da mata, City ID: 3469169\n",
      "There is no record, continue to the next record...\n",
      "City Name: cocal, City ID: 3466005\n",
      "City Name: dicabisagan, City ID: 1715015\n",
      "City Name: tigil, City ID: 2120612\n",
      "There is no record, continue to the next record...\n",
      "City Name: port elizabeth, City ID: 964420\n",
      "City Name: aasiaat, City ID: 3424901\n",
      "City Name: alofi, City ID: 4036284\n",
      "City Name: port blair, City ID: 1259385\n",
      "City Name: balangir, City ID: 1277643\n",
      "City Name: roebourne, City ID: 2062276\n",
      "City Name: manzhouli, City ID: 2035836\n",
      "City Name: camacha, City ID: 2270385\n",
      "City Name: deputatskiy, City ID: 2028164\n",
      "City Name: bandarbeyla, City ID: 64814\n",
      "City Name: chuy, City ID: 3443061\n",
      "City Name: banda aceh, City ID: 1215502\n",
      "City Name: bayevo, City ID: 1510709\n",
      "City Name: zhongshu, City ID: 1784310\n",
      "City Name: port augusta, City ID: 2063056\n",
      "There is no record, continue to the next record...\n",
      "City Name: mvangue, City ID: 2225703\n",
      "City Name: haines junction, City ID: 5969025\n",
      "City Name: bengkulu, City ID: 1649150\n",
      "City Name: flinders, City ID: 6255012\n",
      "City Name: paragominas, City ID: 3393106\n",
      "City Name: blythe, City ID: 5329649\n",
      "There is no record, continue to the next record...\n",
      "City Name: abu samrah, City ID: 172515\n",
      "There is no record, continue to the next record...\n",
      "City Name: tomatlan, City ID: 3981391\n",
      "City Name: puerto leguizamo, City ID: 3671437\n",
      "City Name: dungarpur, City ID: 1272201\n",
      "City Name: poum, City ID: 2138555\n",
      "City Name: leningradskiy, City ID: 2123814\n",
      "City Name: sitka, City ID: 5557293\n",
      "City Name: santa maria, City ID: 3450083\n",
      "City Name: bilibino, City ID: 2126682\n",
      "City Name: parkersburg, City ID: 4817641\n",
      "City Name: cairns, City ID: 2172797\n",
      "City Name: vardo, City ID: 777019\n",
      "City Name: chapais, City ID: 5919850\n",
      "City Name: mount gambier, City ID: 2156643\n",
      "City Name: ola, City ID: 2122574\n",
      "City Name: valleyview, City ID: 6173220\n",
      "City Name: akim swedru, City ID: 2305164\n",
      "City Name: xiamen, City ID: 1790645\n",
      "City Name: kinablangan, City ID: 1708743\n",
      "City Name: paracatu, City ID: 3455168\n",
      "There is no record, continue to the next record...\n",
      "City Name: coquimbo, City ID: 3893629\n",
      "City Name: belmonte, City ID: 3470137\n",
      "City Name: north bend, City ID: 5742974\n",
      "City Name: nuuk, City ID: 3421319\n",
      "City Name: half moon bay, City ID: 5354943\n",
      "City Name: zatoka, City ID: 687557\n",
      "City Name: saint-philippe, City ID: 935215\n",
      "City Name: adre, City ID: 245669\n",
      "There is no record, continue to the next record...\n",
      "City Name: balikpapan, City ID: 1650527\n",
      "City Name: kyabe, City ID: 2429344\n",
      "There is no record, continue to the next record...\n",
      "City Name: didwana, City ID: 1272640\n",
      "City Name: zaysan, City ID: 1517060\n",
      "City Name: inhambane, City ID: 1045114\n",
      "City Name: norman wells, City ID: 6089245\n",
      "City Name: askiz, City ID: 1511304\n",
      "City Name: fortuna, City ID: 5563839\n",
      "City Name: kuryk, City ID: 609919\n",
      "City Name: birao, City ID: 240210\n",
      "City Name: yadgir, City ID: 1252822\n",
      "City Name: chara, City ID: 2025630\n",
      "City Name: lakatoro, City ID: 2136697\n",
      "City Name: debre tabor, City ID: 339686\n",
      "City Name: peterhead, City ID: 2640351\n",
      "City Name: kalmunai, City ID: 1242110\n",
      "City Name: sembe, City ID: 2255304\n",
      "There is no record, continue to the next record...\n",
      "City Name: coihaique, City ID: 3894426\n",
      "City Name: clyde river, City ID: 5924351\n",
      "There is no record, continue to the next record...\n",
      "City Name: pacific grove, City ID: 5380437\n",
      "City Name: ouargaye, City ID: 2357012\n",
      "There is no record, continue to the next record...\n",
      "City Name: mount isa, City ID: 2065594\n",
      "City Name: trelew, City ID: 3833883\n",
      "City Name: ulladulla, City ID: 2145554\n",
      "There is no record, continue to the next record...\n",
      "City Name: ocala, City ID: 4166673\n",
      "City Name: asau, City ID: 686090\n",
      "City Name: torbay, City ID: 6167817\n",
      "There is no record, continue to the next record...\n",
      "City Name: carballo, City ID: 3126369\n",
      "City Name: lompoc, City ID: 5367788\n",
      "City Name: merke, City ID: 1520969\n",
      "City Name: eureka, City ID: 5563397\n",
      "City Name: jonesboro, City ID: 4116834\n",
      "City Name: lasa, City ID: 3175096\n",
      "City Name: narasapur, City ID: 1261852\n",
      "City Name: coos bay, City ID: 5720495\n",
      "City Name: kaeo, City ID: 2189343\n",
      "City Name: tuatapere, City ID: 2180815\n",
      "City Name: manono, City ID: 209598\n",
      "City Name: tingo maria, City ID: 3691348\n",
      "City Name: wau, City ID: 363885\n",
      "City Name: moranbah, City ID: 6533368\n",
      "City Name: gamba, City ID: 2400547\n",
      "City Name: malaya serdoba, City ID: 531383\n",
      "City Name: muroto, City ID: 1856392\n",
      "City Name: peleduy, City ID: 2018069\n",
      "City Name: charters towers, City ID: 2171722\n",
      "City Name: ati, City ID: 2436400\n",
      "City Name: morant bay, City ID: 3489440\n",
      "City Name: hervey bay, City ID: 2146219\n",
      "City Name: alyangula, City ID: 2079582\n",
      "City Name: kodiak, City ID: 5866583\n",
      "City Name: moose factory, City ID: 6078372\n",
      "There is no record, continue to the next record...\n",
      "City Name: honiara, City ID: 2108502\n",
      "City Name: zheleznogorsk, City ID: 463343\n",
      "There is no record, continue to the next record...\n",
      "City Name: pilar, City ID: 3392126\n",
      "City Name: meulaboh, City ID: 1214488\n",
      "City Name: rantauprapat, City ID: 1214073\n",
      "City Name: araouane, City ID: 2460954\n",
      "City Name: pa sang, City ID: 1151528\n",
      "City Name: russell, City ID: 4047434\n",
      "City Name: viedma, City ID: 3832899\n",
      "City Name: bambous virieux, City ID: 1106677\n",
      "City Name: teya, City ID: 1489656\n",
      "City Name: los llanos de aridane, City ID: 2514651\n",
      "City Name: erice, City ID: 2524815\n",
      "City Name: namibe, City ID: 3347019\n",
      "City Name: ilulissat, City ID: 3423146\n",
      "City Name: laguna, City ID: 5364271\n",
      "City Name: taoudenni, City ID: 2450173\n",
      "City Name: iracoubo, City ID: 3381428\n",
      "City Name: cheyenne, City ID: 5821086\n",
      "City Name: codrington, City ID: 2171099\n",
      "City Name: richards bay, City ID: 962367\n",
      "City Name: hambantota, City ID: 1244926\n",
      "City Name: nan, City ID: 1608451\n",
      "City Name: jacareacanga, City ID: 3397763\n",
      "City Name: vanavara, City ID: 2013727\n",
      "City Name: jalu, City ID: 86049\n",
      "City Name: san juan, City ID: 3837213\n",
      "City Name: aswan, City ID: 359792\n",
      "City Name: garmsar, City ID: 133964\n",
      "City Name: bitung, City ID: 1648636\n",
      "City Name: lakhnadon, City ID: 1265233\n",
      "City Name: mbini, City ID: 2308278\n",
      "City Name: heze, City ID: 1808198\n",
      "City Name: trairi, City ID: 3386177\n",
      "City Name: mahebourg, City ID: 934322\n",
      "City Name: timra, City ID: 2669047\n",
      "City Name: yar-sale, City ID: 1486321\n",
      "City Name: channel-port aux basques, City ID: 5919815\n",
      "City Name: hofn, City ID: 2630299\n",
      "City Name: saint-michel-des-saints, City ID: 6138802\n",
      "City Name: jaru, City ID: 3925040\n",
      "City Name: lakes entrance, City ID: 2160735\n",
      "City Name: gambela, City ID: 337405\n",
      "City Name: rivers, City ID: 6122707\n",
      "City Name: napier, City ID: 2186313\n",
      "City Name: vryburg, City ID: 942511\n",
      "City Name: greymouth, City ID: 2206895\n",
      "City Name: ahipara, City ID: 2194098\n",
      "City Name: natal, City ID: 3394023\n",
      "There is no record, continue to the next record...\n",
      "City Name: vestmannaeyjar, City ID: 3412093\n",
      "City Name: gouyave, City ID: 3580279\n",
      "City Name: zaraza, City ID: 3625066\n",
      "City Name: bodden town, City ID: 3580733\n",
      "There is no record, continue to the next record...\n",
      "City Name: saint-pierre, City ID: 935214\n",
      "City Name: aykhal, City ID: 2027296\n",
      "City Name: kerikeri, City ID: 2188874\n",
      "City Name: tucurui, City ID: 3385935\n",
      "City Name: buraydah, City ID: 107304\n",
      "There is no record, continue to the next record...\n",
      "City Name: katsuura, City ID: 2112309\n",
      "City Name: kiama, City ID: 2161515\n",
      "There is no record, continue to the next record...\n",
      "City Name: college, City ID: 5859699\n",
      "City Name: kamir, City ID: 1175098\n",
      "There is no record, continue to the next record...\n",
      "City Name: omsukchan, City ID: 2122493\n",
      "There is no record, continue to the next record...\n",
      "City Name: riyadh, City ID: 108410\n",
      "City Name: minab, City ID: 123941\n",
      "City Name: nome, City ID: 5870133\n",
      "City Name: sokoto, City ID: 2322911\n",
      "City Name: lazaro cardenas, City ID: 4026082\n",
      "City Name: mazagao, City ID: 3395042\n",
      "City Name: vila velha, City ID: 3445026\n",
      "City Name: buala, City ID: 2109528\n",
      "City Name: solikamsk, City ID: 491023\n",
      "City Name: vanimo, City ID: 2084442\n",
      "City Name: tigzirt, City ID: 2476660\n",
      "City Name: touros, City ID: 3386213\n",
      "City Name: mwene-ditu, City ID: 207570\n",
      "There is no record, continue to the next record...\n",
      "City Name: santa paula, City ID: 5393245\n",
      "There is no record, continue to the next record...\n"
     ]
    },
    {
     "name": "stdout",
     "output_type": "stream",
     "text": [
      "City Name: nikitinskiy, City ID: 1497736\n",
      "City Name: lehigh acres, City ID: 4161785\n",
      "City Name: chulman, City ID: 2025261\n",
      "City Name: agua dulce, City ID: 3533269\n",
      "City Name: jumla, City ID: 1283285\n",
      "City Name: miramar, City ID: 4164601\n",
      "City Name: quatre cocos, City ID: 1106643\n",
      "City Name: esperance, City ID: 2071860\n",
      "City Name: camapua, City ID: 3468020\n",
      "City Name: veracruz, City ID: 3514780\n",
      "City Name: saint-leu, City ID: 6690297\n",
      "City Name: kasongo-lunda, City ID: 2315026\n",
      "City Name: juneau, City ID: 5554072\n",
      "City Name: bonfim, City ID: 3405215\n",
      "City Name: usinsk, City ID: 863061\n",
      "City Name: gurupa, City ID: 3398480\n",
      "City Name: la libertad, City ID: 3655131\n",
      "City Name: makakilo city, City ID: 5850554\n",
      "City Name: severo-kurilsk, City ID: 2121385\n",
      "City Name: hualmay, City ID: 3939761\n",
      "City Name: abengourou, City ID: 2293549\n",
      "City Name: balrampur, City ID: 1277525\n",
      "City Name: lagoa, City ID: 3372964\n",
      "City Name: mahibadhoo, City ID: 1337605\n",
      "City Name: starokozache, City ID: 692819\n",
      "City Name: pitsunda, City ID: 615460\n",
      "There is no record, continue to the next record...\n",
      "City Name: te anau, City ID: 2181625\n",
      "City Name: kalamare, City ID: 933696\n",
      "City Name: cayenne, City ID: 3382160\n",
      "City Name: sorong, City ID: 1626542\n",
      "City Name: emerald, City ID: 2167426\n",
      "City Name: carazinho, City ID: 3466978\n",
      "City Name: surt, City ID: 2210554\n",
      "There is no record, continue to the next record...\n",
      "City Name: gimli, City ID: 5961417\n",
      "City Name: ahuimanu, City ID: 5856516\n",
      "City Name: marion, City ID: 4260977\n",
      "City Name: bundaberg, City ID: 2173323\n",
      "City Name: kem, City ID: 551145\n",
      "City Name: schmallenberg, City ID: 2838053\n",
      "City Name: arthur, City ID: 4232911\n",
      "There is no record, continue to the next record...\n",
      "There is no record, continue to the next record...\n",
      "City Name: tautira, City ID: 4033557\n",
      "City Name: kavaratti, City ID: 1267390\n",
      "City Name: kirakira, City ID: 2178753\n",
      "There is no record, continue to the next record...\n",
      "City Name: mafinga, City ID: 155405\n",
      "City Name: tkibuli, City ID: 611584\n",
      "City Name: mendi, City ID: 2090990\n",
      "City Name: yingcheng, City ID: 1786640\n",
      "City Name: saint anthony, City ID: 5044290\n",
      "There is no record, continue to the next record...\n",
      "City Name: hidalgotitlan, City ID: 3527113\n",
      "City Name: high rock, City ID: 3572189\n",
      "City Name: southbridge, City ID: 4951594\n",
      "City Name: nioro, City ID: 2412408\n",
      "City Name: tabou, City ID: 2281120\n",
      "City Name: lancaster, City ID: 5197085\n",
      "City Name: tuban, City ID: 1623180\n",
      "City Name: masuguru, City ID: 878054\n",
      "City Name: san andres, City ID: 3670218\n",
      "City Name: kupang, City ID: 2057087\n",
      "City Name: tucuru, City ID: 3588206\n",
      "City Name: tabuk, City ID: 1684803\n",
      "City Name: paamiut, City ID: 3421193\n",
      "City Name: rio gallegos, City ID: 3838859\n",
      "City Name: kudahuvadhoo, City ID: 1337607\n",
      "City Name: airai, City ID: 1651810\n",
      "City Name: jacksonville, City ID: 4160021\n",
      "City Name: miri, City ID: 1738050\n",
      "City Name: visby, City ID: 2662689\n",
      "City Name: zhangye, City ID: 1785036\n",
      "City Name: copiapo, City ID: 3893656\n",
      "City Name: tokonou, City ID: 2414659\n",
      "City Name: erenhot, City ID: 2037485\n",
      "City Name: lukulu, City ID: 909488\n",
      "City Name: dunkirk, City ID: 3020686\n",
      "City Name: imeni poliny osipenko, City ID: 2023584\n",
      "City Name: amahai, City ID: 1651591\n",
      "City Name: daru, City ID: 2098329\n",
      "City Name: markova, City ID: 701802\n",
      "City Name: shuangcheng, City ID: 2034834\n",
      "City Name: khash, City ID: 1160571\n",
      "City Name: santiago, City ID: 3871336\n",
      "City Name: barentu, City ID: 342711\n",
      "City Name: kondoa, City ID: 156510\n",
      "There is no record, continue to the next record...\n",
      "City Name: komsomolskiy, City ID: 1513491\n",
      "City Name: krasnovishersk, City ID: 542184\n",
      "City Name: mtsensk, City ID: 524640\n",
      "City Name: homer, City ID: 5864145\n",
      "City Name: kurchum, City ID: 1521762\n",
      "There is no record, continue to the next record...\n",
      "City Name: kavieng, City ID: 2094342\n",
      "City Name: manali, City ID: 1263968\n",
      "There is no record, continue to the next record...\n",
      "City Name: beloha, City ID: 1067565\n",
      "City Name: darnah, City ID: 87205\n",
      "City Name: marsh harbour, City ID: 3571913\n",
      "City Name: luangwa, City ID: 909887\n",
      "City Name: nara, City ID: 1855612\n",
      "There is no record, continue to the next record...\n",
      "City Name: kovylkino, City ID: 543436\n",
      "City Name: reftinskiy, City ID: 1493687\n",
      "City Name: wenling, City ID: 1791464\n",
      "City Name: marsaxlokk, City ID: 2562247\n",
      "City Name: villa bruzual, City ID: 3625346\n",
      "City Name: sioux lookout, City ID: 6148373\n",
      "City Name: tongling, City ID: 1792621\n",
      "City Name: puerto colombia, City ID: 3671497\n",
      "City Name: kontagora, City ID: 2334008\n",
      "City Name: gat, City ID: 293842\n",
      "City Name: san cristobal, City ID: 3628473\n",
      "City Name: biak, City ID: 1637001\n",
      "City Name: preobrazheniye, City ID: 2017658\n",
      "City Name: zvishavane, City ID: 878549\n",
      "City Name: berlevag, City ID: 780687\n",
      "City Name: sidi ali, City ID: 2487130\n",
      "City Name: manyana, City ID: 933416\n",
      "City Name: austin, City ID: 4671654\n",
      "City Name: nago, City ID: 1856068\n",
      "City Name: mackay, City ID: 2159220\n",
      "City Name: kologriv, City ID: 546282\n",
      "City Name: taree, City ID: 2147381\n",
      "City Name: kyra, City ID: 2021041\n",
      "City Name: herat, City ID: 1140025\n",
      "City Name: novyy urengoy, City ID: 1496511\n",
      "City Name: maragogi, City ID: 3395458\n",
      "City Name: silikatnyy, City ID: 492970\n",
      "City Name: abha, City ID: 110690\n",
      "City Name: manaus, City ID: 3663517\n",
      "City Name: horki, City ID: 627905\n",
      "City Name: aketi, City ID: 220448\n",
      "There is no record, continue to the next record...\n",
      "City Name: beringovskiy, City ID: 2126710\n",
      "City Name: jieshou, City ID: 1805844\n",
      "City Name: banjarmasin, City ID: 1650213\n",
      "City Name: ayagoz, City ID: 1525988\n",
      "City Name: great bend, City ID: 4272340\n",
      "City Name: shitanjing, City ID: 1794971\n",
      "City Name: khuzhir, City ID: 2022143\n",
      "City Name: sinnamary, City ID: 3380290\n",
      "There is no record, continue to the next record...\n",
      "City Name: vila, City ID: 7117100\n",
      "City Name: nusaybin, City ID: 303750\n",
      "City Name: the valley, City ID: 3573374\n",
      "City Name: nishihara, City ID: 1855342\n",
      "City Name: liepaja, City ID: 457955\n",
      "City Name: roma, City ID: 5134295\n",
      "There is no record, continue to the next record...\n",
      "City Name: luocheng, City ID: 1801983\n",
      "City Name: ranau, City ID: 1733502\n",
      "City Name: adrar, City ID: 2381972\n",
      "There is no record, continue to the next record...\n",
      "City Name: marsa matruh, City ID: 352733\n",
      "City Name: lae, City ID: 2092740\n",
      "There is no record, continue to the next record...\n",
      "City Name: tonantins, City ID: 3661894\n",
      "City Name: novikovo, City ID: 487928\n",
      "City Name: sakaiminato, City ID: 1853174\n",
      "City Name: hami, City ID: 1529484\n",
      "City Name: ixtapa, City ID: 4004293\n",
      "City Name: semporna, City ID: 1733697\n",
      "City Name: williams lake, City ID: 6182212\n",
      "City Name: sobolevo, City ID: 525426\n",
      "City Name: umkomaas, City ID: 946128\n",
      "City Name: namatanai, City ID: 2090021\n",
      "City Name: puerto escondido, City ID: 3520994\n",
      "City Name: seymchan, City ID: 2121373\n",
      "City Name: husainabad, City ID: 1269862\n",
      "City Name: avera, City ID: 4231997\n",
      "City Name: arlit, City ID: 2447513\n",
      "City Name: obihiro, City ID: 2128815\n",
      "City Name: alice springs, City ID: 2077895\n",
      "City Name: zeya, City ID: 2012593\n",
      "City Name: gohpur, City ID: 1271074\n",
      "City Name: palana, City ID: 2122262\n",
      "City Name: belyy yar, City ID: 1510377\n",
      "City Name: shetpe, City ID: 608324\n",
      "City Name: campbell river, City ID: 5914132\n",
      "City Name: saryg-sep, City ID: 1492948\n",
      "City Name: mizan teferi, City ID: 330534\n"
     ]
    }
   ],
   "source": [
    "\n",
    "# Set base url and units variables, and combine them to get the query url\n",
    "url = \"http://api.openweathermap.org/data/2.5/weather?\"\n",
    "units = \"imperial\"\n",
    "query_url = f\"{url}appid={weather_api_key}&units={units}&q=\"\n",
    "\n",
    "# Create empty lists to store the data for each field\n",
    "city_id_list = []\n",
    "city_name_list = []\n",
    "country_list = []\n",
    "lng_list = []\n",
    "lat_list = []\n",
    "temp_list = []\n",
    "humidity_list = []\n",
    "clouds_list = []\n",
    "wind_speed_list = []\n",
    "\n",
    "# Loop through cities\n",
    "for city in cities:\n",
    "    response_json = requests.get(query_url + city).json()\n",
    "    try:\n",
    "        \n",
    "        city_id = response_json['id']\n",
    "        city_id_list.append(city_id)\n",
    "            \n",
    "        city_name = response_json['name']\n",
    "        city_name_list.append(city_name)\n",
    "        \n",
    "        country_name = response_json['sys']['country']\n",
    "        country_list.append(country_name)\n",
    "\n",
    "        lng = response_json['coord']['lon']\n",
    "        lng_list.append(lng)\n",
    "\n",
    "        lat = response_json['coord']['lat']\n",
    "        lat_list.append(lat)\n",
    "\n",
    "        temp = response_json['main']['temp']\n",
    "        temp_list.append(temp)\n",
    "\n",
    "        humidity = response_json['main']['humidity']\n",
    "        humidity_list.append(humidity)\n",
    "\n",
    "        clouds = response_json['clouds']['all']\n",
    "        clouds_list.append(clouds)\n",
    "\n",
    "        wind_speed = response_json['wind']['speed']\n",
    "        wind_speed_list.append(wind_speed)\n",
    "    \n",
    "        print(f\"City Name: {city}, City ID: {city_id}\")\n",
    "    \n",
    "    # Print error message and move on to the next city if there is an error\n",
    "    except:\n",
    "        \n",
    "        print(\"There is no record, continue to the next record...\")\n"
   ]
  },
  {
   "cell_type": "markdown",
   "metadata": {},
   "source": [
    "### Convert Raw Data to DataFrame\n",
    "* Export the city data into a .csv.\n",
    "* Display the DataFrame"
   ]
  },
  {
   "cell_type": "code",
   "execution_count": 4,
   "metadata": {},
   "outputs": [
    {
     "data": {
      "text/html": [
       "<div>\n",
       "<style scoped>\n",
       "    .dataframe tbody tr th:only-of-type {\n",
       "        vertical-align: middle;\n",
       "    }\n",
       "\n",
       "    .dataframe tbody tr th {\n",
       "        vertical-align: top;\n",
       "    }\n",
       "\n",
       "    .dataframe thead th {\n",
       "        text-align: right;\n",
       "    }\n",
       "</style>\n",
       "<table border=\"1\" class=\"dataframe\">\n",
       "  <thead>\n",
       "    <tr style=\"text-align: right;\">\n",
       "      <th></th>\n",
       "      <th>City ID</th>\n",
       "      <th>City</th>\n",
       "      <th>Country</th>\n",
       "      <th>Lat</th>\n",
       "      <th>Lng</th>\n",
       "      <th>Temperature</th>\n",
       "      <th>Humidity</th>\n",
       "      <th>Clouds</th>\n",
       "      <th>Wind Speed</th>\n",
       "    </tr>\n",
       "  </thead>\n",
       "  <tbody>\n",
       "    <tr>\n",
       "      <th>0</th>\n",
       "      <td>4035715</td>\n",
       "      <td>Avarua</td>\n",
       "      <td>CK</td>\n",
       "      <td>-21.2078</td>\n",
       "      <td>-159.7750</td>\n",
       "      <td>82.40</td>\n",
       "      <td>78</td>\n",
       "      <td>75</td>\n",
       "      <td>5.75</td>\n",
       "    </tr>\n",
       "    <tr>\n",
       "      <th>1</th>\n",
       "      <td>2391893</td>\n",
       "      <td>Savé</td>\n",
       "      <td>BJ</td>\n",
       "      <td>8.0425</td>\n",
       "      <td>2.4860</td>\n",
       "      <td>79.65</td>\n",
       "      <td>74</td>\n",
       "      <td>71</td>\n",
       "      <td>5.19</td>\n",
       "    </tr>\n",
       "    <tr>\n",
       "      <th>2</th>\n",
       "      <td>2206939</td>\n",
       "      <td>Bluff</td>\n",
       "      <td>NZ</td>\n",
       "      <td>-46.6000</td>\n",
       "      <td>168.3333</td>\n",
       "      <td>73.00</td>\n",
       "      <td>56</td>\n",
       "      <td>53</td>\n",
       "      <td>5.99</td>\n",
       "    </tr>\n",
       "    <tr>\n",
       "      <th>3</th>\n",
       "      <td>2120047</td>\n",
       "      <td>Ust'-Omchug</td>\n",
       "      <td>RU</td>\n",
       "      <td>61.1500</td>\n",
       "      <td>149.6333</td>\n",
       "      <td>-13.11</td>\n",
       "      <td>93</td>\n",
       "      <td>99</td>\n",
       "      <td>4.56</td>\n",
       "    </tr>\n",
       "    <tr>\n",
       "      <th>4</th>\n",
       "      <td>2645198</td>\n",
       "      <td>Kirkwall</td>\n",
       "      <td>GB</td>\n",
       "      <td>58.9848</td>\n",
       "      <td>-2.9587</td>\n",
       "      <td>35.60</td>\n",
       "      <td>80</td>\n",
       "      <td>40</td>\n",
       "      <td>7.83</td>\n",
       "    </tr>\n",
       "  </tbody>\n",
       "</table>\n",
       "</div>"
      ],
      "text/plain": [
       "   City ID         City Country      Lat       Lng  Temperature  Humidity  \\\n",
       "0  4035715       Avarua      CK -21.2078 -159.7750        82.40        78   \n",
       "1  2391893         Savé      BJ   8.0425    2.4860        79.65        74   \n",
       "2  2206939        Bluff      NZ -46.6000  168.3333        73.00        56   \n",
       "3  2120047  Ust'-Omchug      RU  61.1500  149.6333       -13.11        93   \n",
       "4  2645198     Kirkwall      GB  58.9848   -2.9587        35.60        80   \n",
       "\n",
       "   Clouds  Wind Speed  \n",
       "0      75        5.75  \n",
       "1      71        5.19  \n",
       "2      53        5.99  \n",
       "3      99        4.56  \n",
       "4      40        7.83  "
      ]
     },
     "execution_count": 4,
     "metadata": {},
     "output_type": "execute_result"
    }
   ],
   "source": [
    "# Convert the data into a dataframe\n",
    "cities_df = pd.DataFrame({\"City ID\": city_id_list, \"City\": city_name_list, \"Country\": country_list, \"Lat\": lat_list, \"Lng\": lng_list,\n",
    "                         \"Temperature\": temp_list, \"Humidity\": humidity_list, \"Clouds\": clouds_list,\n",
    "                         \"Wind Speed\": wind_speed_list})\n",
    "cities_df.head()\n",
    "\n"
   ]
  },
  {
   "cell_type": "code",
   "execution_count": null,
   "metadata": {},
   "outputs": [],
   "source": []
  },
  {
   "cell_type": "code",
   "execution_count": 5,
   "metadata": {},
   "outputs": [],
   "source": [
    "# Export to .csv file\n",
    "\n",
    "cities_df.to_csv(\"../Output_data/city_weather.csv\", index=False, header=True)"
   ]
  },
  {
   "cell_type": "markdown",
   "metadata": {},
   "source": [
    "## Inspect the data and remove the cities where the humidity > 100%.\n",
    "----\n",
    "Skip this step if there are no cities that have humidity > 100%. "
   ]
  },
  {
   "cell_type": "code",
   "execution_count": 6,
   "metadata": {},
   "outputs": [
    {
     "data": {
      "text/html": [
       "<div>\n",
       "<style scoped>\n",
       "    .dataframe tbody tr th:only-of-type {\n",
       "        vertical-align: middle;\n",
       "    }\n",
       "\n",
       "    .dataframe tbody tr th {\n",
       "        vertical-align: top;\n",
       "    }\n",
       "\n",
       "    .dataframe thead th {\n",
       "        text-align: right;\n",
       "    }\n",
       "</style>\n",
       "<table border=\"1\" class=\"dataframe\">\n",
       "  <thead>\n",
       "    <tr style=\"text-align: right;\">\n",
       "      <th></th>\n",
       "      <th>City ID</th>\n",
       "      <th>Lat</th>\n",
       "      <th>Lng</th>\n",
       "      <th>Temperature</th>\n",
       "      <th>Humidity</th>\n",
       "      <th>Clouds</th>\n",
       "      <th>Wind Speed</th>\n",
       "    </tr>\n",
       "  </thead>\n",
       "  <tbody>\n",
       "    <tr>\n",
       "      <th>count</th>\n",
       "      <td>5.500000e+02</td>\n",
       "      <td>550.000000</td>\n",
       "      <td>550.000000</td>\n",
       "      <td>550.000000</td>\n",
       "      <td>550.000000</td>\n",
       "      <td>550.000000</td>\n",
       "      <td>550.000000</td>\n",
       "    </tr>\n",
       "    <tr>\n",
       "      <th>mean</th>\n",
       "      <td>2.703909e+06</td>\n",
       "      <td>19.048207</td>\n",
       "      <td>21.074540</td>\n",
       "      <td>51.995255</td>\n",
       "      <td>72.112727</td>\n",
       "      <td>52.165455</td>\n",
       "      <td>7.769618</td>\n",
       "    </tr>\n",
       "    <tr>\n",
       "      <th>std</th>\n",
       "      <td>1.658474e+06</td>\n",
       "      <td>33.321373</td>\n",
       "      <td>93.322267</td>\n",
       "      <td>29.571207</td>\n",
       "      <td>21.798005</td>\n",
       "      <td>39.973077</td>\n",
       "      <td>5.838001</td>\n",
       "    </tr>\n",
       "    <tr>\n",
       "      <th>min</th>\n",
       "      <td>6.481400e+04</td>\n",
       "      <td>-54.800000</td>\n",
       "      <td>-175.200000</td>\n",
       "      <td>-42.140000</td>\n",
       "      <td>7.000000</td>\n",
       "      <td>0.000000</td>\n",
       "      <td>0.090000</td>\n",
       "    </tr>\n",
       "    <tr>\n",
       "      <th>25%</th>\n",
       "      <td>1.539256e+06</td>\n",
       "      <td>-6.974400</td>\n",
       "      <td>-61.970650</td>\n",
       "      <td>35.600000</td>\n",
       "      <td>60.000000</td>\n",
       "      <td>7.000000</td>\n",
       "      <td>3.440000</td>\n",
       "    </tr>\n",
       "    <tr>\n",
       "      <th>50%</th>\n",
       "      <td>2.176038e+06</td>\n",
       "      <td>21.417650</td>\n",
       "      <td>25.540650</td>\n",
       "      <td>62.180000</td>\n",
       "      <td>77.000000</td>\n",
       "      <td>58.000000</td>\n",
       "      <td>6.095000</td>\n",
       "    </tr>\n",
       "    <tr>\n",
       "      <th>75%</th>\n",
       "      <td>3.625783e+06</td>\n",
       "      <td>47.642500</td>\n",
       "      <td>107.278425</td>\n",
       "      <td>75.160000</td>\n",
       "      <td>89.000000</td>\n",
       "      <td>91.750000</td>\n",
       "      <td>10.360000</td>\n",
       "    </tr>\n",
       "    <tr>\n",
       "      <th>max</th>\n",
       "      <td>8.079926e+06</td>\n",
       "      <td>78.218600</td>\n",
       "      <td>179.316700</td>\n",
       "      <td>96.800000</td>\n",
       "      <td>100.000000</td>\n",
       "      <td>100.000000</td>\n",
       "      <td>46.040000</td>\n",
       "    </tr>\n",
       "  </tbody>\n",
       "</table>\n",
       "</div>"
      ],
      "text/plain": [
       "            City ID         Lat         Lng  Temperature    Humidity  \\\n",
       "count  5.500000e+02  550.000000  550.000000   550.000000  550.000000   \n",
       "mean   2.703909e+06   19.048207   21.074540    51.995255   72.112727   \n",
       "std    1.658474e+06   33.321373   93.322267    29.571207   21.798005   \n",
       "min    6.481400e+04  -54.800000 -175.200000   -42.140000    7.000000   \n",
       "25%    1.539256e+06   -6.974400  -61.970650    35.600000   60.000000   \n",
       "50%    2.176038e+06   21.417650   25.540650    62.180000   77.000000   \n",
       "75%    3.625783e+06   47.642500  107.278425    75.160000   89.000000   \n",
       "max    8.079926e+06   78.218600  179.316700    96.800000  100.000000   \n",
       "\n",
       "           Clouds  Wind Speed  \n",
       "count  550.000000  550.000000  \n",
       "mean    52.165455    7.769618  \n",
       "std     39.973077    5.838001  \n",
       "min      0.000000    0.090000  \n",
       "25%      7.000000    3.440000  \n",
       "50%     58.000000    6.095000  \n",
       "75%     91.750000   10.360000  \n",
       "max    100.000000   46.040000  "
      ]
     },
     "execution_count": 6,
     "metadata": {},
     "output_type": "execute_result"
    }
   ],
   "source": [
    "cities_df.describe()\n"
   ]
  },
  {
   "cell_type": "code",
   "execution_count": 7,
   "metadata": {},
   "outputs": [
    {
     "data": {
      "text/plain": [
       "Int64Index([], dtype='int64')"
      ]
     },
     "execution_count": 7,
     "metadata": {},
     "output_type": "execute_result"
    }
   ],
   "source": [
    "#  Get the indices of cities that have humidity over 100%.\n",
    "\n",
    "humid_city_data = cities_df[(cities_df[\"Humidity\"] > 100)].index\n",
    "                                  \n",
    "humid_city_data"
   ]
  },
  {
   "cell_type": "code",
   "execution_count": 8,
   "metadata": {},
   "outputs": [
    {
     "data": {
      "text/html": [
       "<div>\n",
       "<style scoped>\n",
       "    .dataframe tbody tr th:only-of-type {\n",
       "        vertical-align: middle;\n",
       "    }\n",
       "\n",
       "    .dataframe tbody tr th {\n",
       "        vertical-align: top;\n",
       "    }\n",
       "\n",
       "    .dataframe thead th {\n",
       "        text-align: right;\n",
       "    }\n",
       "</style>\n",
       "<table border=\"1\" class=\"dataframe\">\n",
       "  <thead>\n",
       "    <tr style=\"text-align: right;\">\n",
       "      <th></th>\n",
       "      <th>City ID</th>\n",
       "      <th>City</th>\n",
       "      <th>Country</th>\n",
       "      <th>Lat</th>\n",
       "      <th>Lng</th>\n",
       "      <th>Temperature</th>\n",
       "      <th>Humidity</th>\n",
       "      <th>Clouds</th>\n",
       "      <th>Wind Speed</th>\n",
       "    </tr>\n",
       "  </thead>\n",
       "  <tbody>\n",
       "    <tr>\n",
       "      <th>0</th>\n",
       "      <td>4035715</td>\n",
       "      <td>Avarua</td>\n",
       "      <td>CK</td>\n",
       "      <td>-21.2078</td>\n",
       "      <td>-159.7750</td>\n",
       "      <td>82.40</td>\n",
       "      <td>78</td>\n",
       "      <td>75</td>\n",
       "      <td>5.75</td>\n",
       "    </tr>\n",
       "    <tr>\n",
       "      <th>1</th>\n",
       "      <td>2391893</td>\n",
       "      <td>Savé</td>\n",
       "      <td>BJ</td>\n",
       "      <td>8.0425</td>\n",
       "      <td>2.4860</td>\n",
       "      <td>79.65</td>\n",
       "      <td>74</td>\n",
       "      <td>71</td>\n",
       "      <td>5.19</td>\n",
       "    </tr>\n",
       "    <tr>\n",
       "      <th>2</th>\n",
       "      <td>2206939</td>\n",
       "      <td>Bluff</td>\n",
       "      <td>NZ</td>\n",
       "      <td>-46.6000</td>\n",
       "      <td>168.3333</td>\n",
       "      <td>73.00</td>\n",
       "      <td>56</td>\n",
       "      <td>53</td>\n",
       "      <td>5.99</td>\n",
       "    </tr>\n",
       "    <tr>\n",
       "      <th>3</th>\n",
       "      <td>2120047</td>\n",
       "      <td>Ust'-Omchug</td>\n",
       "      <td>RU</td>\n",
       "      <td>61.1500</td>\n",
       "      <td>149.6333</td>\n",
       "      <td>-13.11</td>\n",
       "      <td>93</td>\n",
       "      <td>99</td>\n",
       "      <td>4.56</td>\n",
       "    </tr>\n",
       "    <tr>\n",
       "      <th>4</th>\n",
       "      <td>2645198</td>\n",
       "      <td>Kirkwall</td>\n",
       "      <td>GB</td>\n",
       "      <td>58.9848</td>\n",
       "      <td>-2.9587</td>\n",
       "      <td>35.60</td>\n",
       "      <td>80</td>\n",
       "      <td>40</td>\n",
       "      <td>7.83</td>\n",
       "    </tr>\n",
       "  </tbody>\n",
       "</table>\n",
       "</div>"
      ],
      "text/plain": [
       "   City ID         City Country      Lat       Lng  Temperature  Humidity  \\\n",
       "0  4035715       Avarua      CK -21.2078 -159.7750        82.40        78   \n",
       "1  2391893         Savé      BJ   8.0425    2.4860        79.65        74   \n",
       "2  2206939        Bluff      NZ -46.6000  168.3333        73.00        56   \n",
       "3  2120047  Ust'-Omchug      RU  61.1500  149.6333       -13.11        93   \n",
       "4  2645198     Kirkwall      GB  58.9848   -2.9587        35.60        80   \n",
       "\n",
       "   Clouds  Wind Speed  \n",
       "0      75        5.75  \n",
       "1      71        5.19  \n",
       "2      53        5.99  \n",
       "3      99        4.56  \n",
       "4      40        7.83  "
      ]
     },
     "execution_count": 8,
     "metadata": {},
     "output_type": "execute_result"
    }
   ],
   "source": [
    "# Make a new DataFrame equal to the city data to drop all humidity outliers by index.\n",
    "# Passing \"inplace=False\" will make a copy of the city_data DataFrame, which we call \"clean_city_data\".\n",
    "clean_city_data = cities_df.drop(humid_city_data, inplace=False)\n",
    "clean_city_data.head()\n"
   ]
  },
  {
   "cell_type": "code",
   "execution_count": 9,
   "metadata": {},
   "outputs": [],
   "source": [
    "clean_city_data.to_csv(\"../Output_data/clean_city_data.csv\", index=False, header=True)"
   ]
  },
  {
   "cell_type": "markdown",
   "metadata": {},
   "source": [
    "## Plotting the Data\n",
    "* Use proper labeling of the plots using plot titles (including date of analysis) and axes labels.\n",
    "* Save the plotted figures as .pngs."
   ]
  },
  {
   "cell_type": "markdown",
   "metadata": {},
   "source": [
    "## Latitude vs. Temperature Plot"
   ]
  },
  {
   "cell_type": "code",
   "execution_count": 10,
   "metadata": {
    "scrolled": false
   },
   "outputs": [
    {
     "data": {
      "image/png": "[encoded data removed]",
      "text/plain": [
       "<Figure size 432x288 with 1 Axes>"
      ]
     },
     "metadata": {
      "needs_background": "light"
     },
     "output_type": "display_data"
    }
   ],
   "source": [
    "x_values = cities_df[\"Lat\"]\n",
    "y_values = cities_df[\"Temperature\"]\n",
    "plt.scatter(x_values,y_values)\n",
    "plt.title(f'City Latitude vs. Temperature {date.today()}')\n",
    "plt.xlabel('Latitude')\n",
    "plt.ylabel('Temperature (F)')\n",
    "plt.ylim(0, 100)\n",
    "plt.xlim(-60, 80)\n",
    "plt.minorticks_on()\n",
    "plt.grid(which='major', linestyle='-')\n",
    "plt.grid(which='minor', linestyle=':')\n",
    "plt.tight_layout()\n",
    "plt.savefig(\"../output_data/City Latitude vs. Temperature.png\")\n",
    "plt.show()\n",
    "\n"
   ]
  },
  {
   "cell_type": "markdown",
   "metadata": {},
   "source": [
    "## Latitude vs. Humidity Plot"
   ]
  },
  {
   "cell_type": "code",
   "execution_count": 11,
   "metadata": {
    "scrolled": false
   },
   "outputs": [
    {
     "data": {
      "image/png": "[encoded data removed]",
      "text/plain": [
       "<Figure size 432x288 with 1 Axes>"
      ]
     },
     "metadata": {
      "needs_background": "light"
     },
     "output_type": "display_data"
    }
   ],
   "source": [
    "x_values = cities_df[\"Lat\"]\n",
    "y_values = cities_df[\"Humidity\"]\n",
    "plt.scatter(x_values,y_values)\n",
    "plt.title(f'Latitude vs. Humidity {date.today()}')\n",
    "plt.xlabel('Latitude')\n",
    "plt.ylabel('Humidity (%)')\n",
    "plt.ylim(0, 105)\n",
    "plt.xlim(-60, 80)\n",
    "plt.minorticks_on()\n",
    "plt.grid(which='major', linestyle='-')\n",
    "plt.grid(which='minor', linestyle=':')\n",
    "plt.tight_layout()\n",
    "plt.savefig(\"../output_data/Humidity at Latitude Positions.png\")\n",
    "plt.show()\n"
   ]
  },
  {
   "cell_type": "markdown",
   "metadata": {},
   "source": [
    "## Latitude vs. Cloudiness Plot"
   ]
  },
  {
   "cell_type": "code",
   "execution_count": 12,
   "metadata": {},
   "outputs": [
    {
     "data": {
      "image/png": "[encoded data removed]",
      "text/plain": [
       "<Figure size 432x288 with 1 Axes>"
      ]
     },
     "metadata": {
      "needs_background": "light"
     },
     "output_type": "display_data"
    }
   ],
   "source": [
    "x_values = cities_df[\"Lat\"]\n",
    "y_values = cities_df[\"Clouds\"]\n",
    "plt.scatter(x_values,y_values)\n",
    "plt.title(f'Latitude vs. Cloudiness {date.today()}')\n",
    "plt.xlabel('Latitude')\n",
    "plt.ylabel('Clouds')\n",
    "plt.ylim(0, 100)\n",
    "plt.xlim(-60, 80)\n",
    "plt.minorticks_on()\n",
    "plt.grid(which='major', linestyle='-')\n",
    "plt.grid(which='minor', linestyle=':')\n",
    "plt.tight_layout()\n",
    "plt.savefig(\"../output_data/Latitude vs. Cloudiness.png\")\n",
    "plt.show()"
   ]
  },
  {
   "cell_type": "markdown",
   "metadata": {},
   "source": [
    "## Latitude vs. Wind Speed Plot"
   ]
  },
  {
   "cell_type": "code",
   "execution_count": 13,
   "metadata": {},
   "outputs": [
    {
     "data": {
      "image/png": "[encoded data removed]",
      "text/plain": [
       "<Figure size 432x288 with 1 Axes>"
      ]
     },
     "metadata": {
      "needs_background": "light"
     },
     "output_type": "display_data"
    }
   ],
   "source": [
    "x_values = cities_df[\"Lat\"]\n",
    "y_values = cities_df[\"Wind Speed\"]\n",
    "plt.scatter(x_values,y_values)\n",
    "plt.title(f'Latitude vs. Wind Speed {date.today()}')\n",
    "plt.xlabel('Latitude')\n",
    "plt.ylabel('Wind Speed')\n",
    "plt.ylim(0, 100)\n",
    "plt.xlim(-60, 80)\n",
    "plt.minorticks_on()\n",
    "plt.grid(which='major', linestyle='-')\n",
    "plt.grid(which='minor', linestyle=':')\n",
    "plt.tight_layout()\n",
    "plt.savefig(\"../output_data/Latitude vs. Wind Speed.png\")\n",
    "plt.show()"
   ]
  },
  {
   "cell_type": "markdown",
   "metadata": {},
   "source": [
    "## Linear Regression"
   ]
  },
  {
   "cell_type": "code",
   "execution_count": 14,
   "metadata": {},
   "outputs": [],
   "source": [
    "\n",
    "def plot_linear_regression(x_values, y_values, title, text_coordinates, ifig):\n",
    "    (slope, intercept, rvalue, pvalue, stderr) = linregress(x_values, y_values)\n",
    "    print(f\"The r-squared is: {rvalue}\")\n",
    "    regress_values = x_values * slope + intercept\n",
    "    line_eq = \"y = \" + str(round(slope,2)) + \"x + \" + str(round(intercept,2))\n",
    "\n",
    "    plt.scatter(x_values,y_values)\n",
    "    plt.plot(x_values,regress_values,\"r-\")\n",
    "    plt.annotate(line_eq,text_coordinates,fontsize=15,color=\"red\")\n",
    "    plt.xlabel('Latitude')\n",
    "    plt.ylabel(title)\n",
    "    plt.savefig(f\"../output_data/fig{ifig}.png\")\n",
    "    plt.show()"
   ]
  },
  {
   "cell_type": "code",
   "execution_count": 15,
   "metadata": {},
   "outputs": [],
   "source": [
    "northern_df = cities_df.loc[(cities_df[\"Lat\"] >= 0)]\n",
    "southern_df = cities_df.loc[(cities_df[\"Lat\"] < 0)]"
   ]
  },
  {
   "cell_type": "markdown",
   "metadata": {},
   "source": [
    "####  Northern Hemisphere - Max Temp vs. Latitude Linear Regression"
   ]
  },
  {
   "cell_type": "code",
   "execution_count": 16,
   "metadata": {},
   "outputs": [
    {
     "name": "stdout",
     "output_type": "stream",
     "text": [
      "The r-squared is: 1.0\n"
     ]
    },
    {
     "data": {
      "image/png": "[encoded data removed]",
      "text/plain": [
       "<Figure size 432x288 with 1 Axes>"
      ]
     },
     "metadata": {
      "needs_background": "light"
     },
     "output_type": "display_data"
    }
   ],
   "source": [
    "x_values = \"Lat\"\n",
    "y_values = \"Temperature\"\n",
    "text_coordinates = (0,25)\n",
    "plot_linear_regression(northern_df[y_values],northern_df[y_values],y_values,text_coordinates,5)"
   ]
  },
  {
   "cell_type": "markdown",
   "metadata": {},
   "source": [
    "####  Southern Hemisphere - Max Temp vs. Latitude Linear Regression"
   ]
  },
  {
   "cell_type": "code",
   "execution_count": 17,
   "metadata": {},
   "outputs": [
    {
     "name": "stdout",
     "output_type": "stream",
     "text": [
      "The r-squared is: 1.0\n"
     ]
    },
    {
     "data": {
      "image/png": "[encoded data removed]",
      "text/plain": [
       "<Figure size 432x288 with 1 Axes>"
      ]
     },
     "metadata": {
      "needs_background": "light"
     },
     "output_type": "display_data"
    }
   ],
   "source": [
    "x_values = \"Lat\"\n",
    "y_values = \"Temperature\"\n",
    "text_coordinates = (-55,90)\n",
    "plot_linear_regression(southern_df[y_values],southern_df[y_values],y_values,text_coordinates,6)"
   ]
  },
  {
   "cell_type": "markdown",
   "metadata": {},
   "source": [
    "####  Northern Hemisphere - Humidity (%) vs. Latitude Linear Regression"
   ]
  },
  {
   "cell_type": "code",
   "execution_count": 18,
   "metadata": {},
   "outputs": [
    {
     "name": "stdout",
     "output_type": "stream",
     "text": [
      "The r-squared is: 1.0\n"
     ]
    },
    {
     "data": {
      "image/png": "[encoded data removed]",
      "text/plain": [
       "<Figure size 432x288 with 1 Axes>"
      ]
     },
     "metadata": {
      "needs_background": "light"
     },
     "output_type": "display_data"
    }
   ],
   "source": [
    "x_values = \"Lat\"\n",
    "y_values = \"Humidity\"\n",
    "text_coordinates = (45,10)\n",
    "plot_linear_regression(northern_df[y_values],northern_df[y_values],y_values,text_coordinates,7)"
   ]
  },
  {
   "cell_type": "markdown",
   "metadata": {},
   "source": [
    "####  Southern Hemisphere - Humidity (%) vs. Latitude Linear Regression"
   ]
  },
  {
   "cell_type": "code",
   "execution_count": 19,
   "metadata": {
    "scrolled": true
   },
   "outputs": [
    {
     "name": "stdout",
     "output_type": "stream",
     "text": [
      "The r-squared is: 1.0\n"
     ]
    },
    {
     "data": {
      "image/png": "[encoded data removed]",
      "text/plain": [
       "<Figure size 432x288 with 1 Axes>"
      ]
     },
     "metadata": {
      "needs_background": "light"
     },
     "output_type": "display_data"
    }
   ],
   "source": [
    "x_values = \"Lat\"\n",
    "y_values = \"Humidity\"\n",
    "text_coordinates = (-55,15)\n",
    "plot_linear_regression(southern_df[y_values],southern_df[y_values],y_values,text_coordinates,8)"
   ]
  },
  {
   "cell_type": "markdown",
   "metadata": {},
   "source": [
    "####  Northern Hemisphere - Cloudiness (%) vs. Latitude Linear Regression"
   ]
  },
  {
   "cell_type": "code",
   "execution_count": 20,
   "metadata": {},
   "outputs": [
    {
     "name": "stdout",
     "output_type": "stream",
     "text": [
      "The r-squared is: 1.0\n"
     ]
    },
    {
     "data": {
      "image/png": "[encoded data removed]",
      "text/plain": [
       "<Figure size 432x288 with 1 Axes>"
      ]
     },
     "metadata": {
      "needs_background": "light"
     },
     "output_type": "display_data"
    }
   ],
   "source": [
    "x_values = \"Lat\"\n",
    "y_values = \"Clouds\"\n",
    "text_coordinates = (20,30)\n",
    "plot_linear_regression(northern_df[y_values],northern_df[y_values],y_values,text_coordinates,9)"
   ]
  },
  {
   "cell_type": "markdown",
   "metadata": {},
   "source": [
    "####  Southern Hemisphere - Cloudiness (%) vs. Latitude Linear Regression"
   ]
  },
  {
   "cell_type": "code",
   "execution_count": 21,
   "metadata": {},
   "outputs": [
    {
     "name": "stdout",
     "output_type": "stream",
     "text": [
      "The r-squared is: 1.0\n"
     ]
    },
    {
     "data": {
      "image/png": "[encoded data removed]",
      "text/plain": [
       "<Figure size 432x288 with 1 Axes>"
      ]
     },
     "metadata": {
      "needs_background": "light"
     },
     "output_type": "display_data"
    }
   ],
   "source": [
    "x_values = \"Lat\"\n",
    "y_values = \"Clouds\"\n",
    "text_coordinates = (-50,55)\n",
    "plot_linear_regression(southern_df[y_values],southern_df[y_values],y_values,text_coordinates,10)"
   ]
  },
  {
   "cell_type": "markdown",
   "metadata": {},
   "source": [
    "####  Northern Hemisphere - Wind Speed (mph) vs. Latitude Linear Regression"
   ]
  },
  {
   "cell_type": "code",
   "execution_count": 22,
   "metadata": {},
   "outputs": [
    {
     "name": "stdout",
     "output_type": "stream",
     "text": [
      "The r-squared is: 1.0\n"
     ]
    },
    {
     "data": {
      "image/png": "[encoded data removed]",
      "text/plain": [
       "<Figure size 432x288 with 1 Axes>"
      ]
     },
     "metadata": {
      "needs_background": "light"
     },
     "output_type": "display_data"
    }
   ],
   "source": [
    "x_values = \"Lat\"\n",
    "y_values = \"Wind Speed\"\n",
    "text_coordinates = (40,25)\n",
    "plot_linear_regression(northern_df[y_values],northern_df[y_values],y_values,text_coordinates,9)"
   ]
  },
  {
   "cell_type": "markdown",
   "metadata": {},
   "source": [
    "####  Southern Hemisphere - Wind Speed (mph) vs. Latitude Linear Regression"
   ]
  },
  {
   "cell_type": "code",
   "execution_count": 23,
   "metadata": {},
   "outputs": [
    {
     "name": "stdout",
     "output_type": "stream",
     "text": [
      "The r-squared is: 1.0\n"
     ]
    },
    {
     "data": {
      "image/png": "[encoded data removed]",
      "text/plain": [
       "<Figure size 432x288 with 1 Axes>"
      ]
     },
     "metadata": {
      "needs_background": "light"
     },
     "output_type": "display_data"
    }
   ],
   "source": [
    "x_values = \"Lat\"\n",
    "y_values = \"Wind Speed\"\n",
    "text_coordinates = (-50, 20)\n",
    "plot_linear_regression(southern_df[y_values],southern_df[y_values],y_values,text_coordinates,10)"
   ]
  },
  {
   "cell_type": "code",
   "execution_count": null,
   "metadata": {},
   "outputs": [],
   "source": []
  }
 ],
 "metadata": {
  "anaconda-cloud": {},
  "kernel_info": {
   "name": "python3"
  },
  "kernelspec": {
   "display_name": "Python 3",
   "language": "python",
   "name": "python3"
  },
  "language_info": {
   "codemirror_mode": {
    "name": "ipython",
    "version": 3
   },
   "file_extension": ".py",
   "mimetype": "text/x-python",
   "name": "python",
   "nbconvert_exporter": "python",
   "pygments_lexer": "ipython3",
   "version": "3.8.5"
  },
  "latex_envs": {
   "LaTeX_envs_menu_present": true,
   "autoclose": false,
   "autocomplete": true,
   "bibliofile": "biblio.bib",
   "cite_by": "apalike",
   "current_citInitial": 1,
   "eqLabelWithNumbers": true,
   "eqNumInitial": 1,
   "hotkeys": {
    "equation": "Ctrl-E",
    "itemize": "Ctrl-I"
   },
   "labels_anchors": false,
   "latex_user_defs": false,
   "report_style_numbering": false,
   "user_envs_cfg": false
  },
  "nteract": {
   "version": "0.12.3"
  }
 },
 "nbformat": 4,
 "nbformat_minor": 2
}
